{
 "cells": [
  {
   "cell_type": "markdown",
   "metadata": {},
   "source": [
    "## 01. Практический кейс. Изучение признаков данных (используя тестовые данные)"
   ]
  },
  {
   "cell_type": "code",
   "execution_count": 39,
   "metadata": {},
   "outputs": [],
   "source": [
    "import numpy as np\n",
    "import pandas as pd\n",
    "import matplotlib.pyplot as plt\n",
    "\n",
    "%matplotlib inline"
   ]
  },
  {
   "cell_type": "code",
   "execution_count": 40,
   "metadata": {},
   "outputs": [],
   "source": [
    "pd.set_option('display.max_columns', None)"
   ]
  },
  {
   "cell_type": "markdown",
   "metadata": {},
   "source": [
    "### Смотрим на признаки данных\n",
    "\n",
    "Для начала, конечно же, откроем файлы. Нужно посчитать кол-во имеющихся данных - имеем 34686 тестовых сэмплов в датафрейме. После этого, необходимо посмотреть на колонки датафрейма; они соответствуют признакам, которые мы будем использовать для предсказания цены авто. "
   ]
  },
  {
   "cell_type": "code",
   "execution_count": 41,
   "metadata": {},
   "outputs": [],
   "source": [
    "# open data\n",
    "test_df = pd.read_csv('data/test.csv')\n",
    "sample_submission_df = pd.read_csv('data/sample_submission.csv')"
   ]
  },
  {
   "cell_type": "code",
   "execution_count": 42,
   "metadata": {},
   "outputs": [
    {
     "name": "stdout",
     "output_type": "stream",
     "text": [
      "Количество тестовых сэмплов: 34686\n",
      "Количество сэмплов в сэмпл сабмишне: 34686\n"
     ]
    }
   ],
   "source": [
    "print(f\"Количество тестовых сэмплов: {len(test_df)}\")\n",
    "print(f\"Количество сэмплов в сэмпл сабмишне: {len(sample_submission_df)}\")"
   ]
  },
  {
   "cell_type": "code",
   "execution_count": 43,
   "metadata": {},
   "outputs": [
    {
     "name": "stdout",
     "output_type": "stream",
     "text": [
      "Колонки тестового датафрейма: ['bodyType', 'brand', 'car_url', 'color', 'complectation_dict', 'description', 'engineDisplacement', 'enginePower', 'equipment_dict', 'fuelType', 'image', 'mileage', 'modelDate', 'model_info', 'model_name', 'name', 'numberOfDoors', 'parsing_unixtime', 'priceCurrency', 'productionDate', 'sell_id', 'super_gen', 'vehicleConfiguration', 'vehicleTransmission', 'vendor', 'Владельцы', 'Владение', 'ПТС', 'Привод', 'Руль', 'Состояние', 'Таможня']\n"
     ]
    }
   ],
   "source": [
    "print(f\"Колонки тестового датафрейма: {list(test_df.columns)}\")"
   ]
  },
  {
   "cell_type": "markdown",
   "metadata": {},
   "source": [
    "Нужно подробнее изучить типы данных в каждой колонке. Для этого, пройдемся методом value_counts() для каждой колонки (с типом данных Series) и заодно прикинем распределение значений."
   ]
  },
  {
   "cell_type": "code",
   "execution_count": 44,
   "metadata": {},
   "outputs": [
    {
     "data": {
      "text/plain": [
       "BMW           4473\n",
       "VOLKSWAGEN    4404\n",
       "NISSAN        4393\n",
       "MERCEDES      4180\n",
       "TOYOTA        3913\n",
       "AUDI          3421\n",
       "MITSUBISHI    2843\n",
       "SKODA         2741\n",
       "VOLVO         1463\n",
       "HONDA         1150\n",
       "INFINITI       871\n",
       "LEXUS          834\n",
       "Name: brand, dtype: int64"
      ]
     },
     "execution_count": 44,
     "metadata": {},
     "output_type": "execute_result"
    }
   ],
   "source": [
    "test_df['brand'].value_counts()"
   ]
  },
  {
   "cell_type": "code",
   "execution_count": 45,
   "metadata": {},
   "outputs": [
    {
     "data": {
      "text/plain": [
       "https://auto.ru/cars/used/sale/nissan/murano/1100777446-0dc04ba0/               1\n",
       "https://auto.ru/cars/used/sale/mercedes/s_class_maybach/1094251210-7785c32b/    1\n",
       "https://auto.ru/cars/used/sale/volkswagen/passat_cc/1084061959-42b68135/        1\n",
       "https://auto.ru/cars/used/sale/volkswagen/golf/1099603172-7b7884bc/             1\n",
       "https://auto.ru/cars/used/sale/mitsubishi/outlander/1101090515-42025ce4/        1\n",
       "Name: car_url, dtype: int64"
      ]
     },
     "execution_count": 45,
     "metadata": {},
     "output_type": "execute_result"
    }
   ],
   "source": [
    "test_df['car_url'].value_counts().head()"
   ]
  },
  {
   "cell_type": "code",
   "execution_count": 46,
   "metadata": {},
   "outputs": [
    {
     "data": {
      "text/plain": [
       "True     28268\n",
       "False     6418\n",
       "Name: complectation_dict, dtype: int64"
      ]
     },
     "execution_count": 46,
     "metadata": {},
     "output_type": "execute_result"
    }
   ],
   "source": [
    "test_df['complectation_dict'].isna().value_counts()"
   ]
  },
  {
   "cell_type": "code",
   "execution_count": 47,
   "metadata": {},
   "outputs": [
    {
     "data": {
      "text/plain": [
       "False    34686\n",
       "Name: description, dtype: int64"
      ]
     },
     "execution_count": 47,
     "metadata": {},
     "output_type": "execute_result"
    }
   ],
   "source": [
    "test_df['description'].isna().value_counts()"
   ]
  },
  {
   "cell_type": "code",
   "execution_count": 48,
   "metadata": {},
   "outputs": [
    {
     "data": {
      "text/plain": [
       "2.0 LTR    7391\n",
       "1.6 LTR    4973\n",
       "3.0 LTR    3915\n",
       "1.8 LTR    3349\n",
       "2.5 LTR    2477\n",
       "Name: engineDisplacement, dtype: int64"
      ]
     },
     "execution_count": 48,
     "metadata": {},
     "output_type": "execute_result"
    }
   ],
   "source": [
    "test_df['engineDisplacement'].value_counts().head()"
   ]
  },
  {
   "cell_type": "code",
   "execution_count": 49,
   "metadata": {},
   "outputs": [
    {
     "data": {
      "text/plain": [
       "249 N12    1708\n",
       "150 N12    1699\n",
       "110 N12    1039\n",
       "170 N12     977\n",
       "105 N12     955\n",
       "Name: enginePower, dtype: int64"
      ]
     },
     "execution_count": 49,
     "metadata": {},
     "output_type": "execute_result"
    }
   ],
   "source": [
    "test_df['enginePower'].value_counts().head()"
   ]
  },
  {
   "cell_type": "code",
   "execution_count": 50,
   "metadata": {},
   "outputs": [
    {
     "data": {
      "text/plain": [
       "{\"leather\":true}                                                                                                                                                                                                                                                                                                                                                                                                                                                                                                                                           108\n",
       "{\"gbo\":true}                                                                                                                                                                                                                                                                                                                                                                                                                                                                                                                                               106\n",
       "{\"fabric-seats\":true}                                                                                                                                                                                                                                                                                                                                                                                                                                                                                                                                       59\n",
       "{\"roof-rails\":true}                                                                                                                                                                                                                                                                                                                                                                                                                                                                                                                                         37\n",
       "{\"cruise-control\":true,\"esp\":true,\"airbag-driver\":true,\"electro-window-front\":true,\"xenon\":true,\"airbag-passenger\":true,\"computer\":true,\"seat-transformation\":true,\"wheel-power\":true,\"alarm\":true,\"passenger-seat-electric\":true,\"lock\":true,\"electro-mirrors\":true,\"electro-window-back\":true,\"paint-metallic\":true,\"ptf\":true,\"airbag-side\":true,\"mirrors-heat\":true,\"hatch\":true,\"leather\":true,\"abs\":true,\"front-seats-heat\":true,\"wheel-configuration2\":true,\"wheel-configuration1\":true,\"immo\":true,\"climate-control-1\":true,\"music-super\":true}     21\n",
       "Name: equipment_dict, dtype: int64"
      ]
     },
     "execution_count": 50,
     "metadata": {},
     "output_type": "execute_result"
    }
   ],
   "source": [
    "test_df['equipment_dict'].value_counts().head()"
   ]
  },
  {
   "cell_type": "code",
   "execution_count": 51,
   "metadata": {},
   "outputs": [
    {
     "data": {
      "text/plain": [
       "бензин     28601\n",
       "дизель      5800\n",
       "гибрид       223\n",
       "электро       55\n",
       "газ            7\n",
       "Name: fuelType, dtype: int64"
      ]
     },
     "execution_count": 51,
     "metadata": {},
     "output_type": "execute_result"
    }
   ],
   "source": [
    "test_df['fuelType'].value_counts().head()"
   ]
  },
  {
   "cell_type": "code",
   "execution_count": 52,
   "metadata": {},
   "outputs": [
    {
     "data": {
      "text/plain": [
       "https://avatars.mds.yandex.net/get-verba/216201/2a000001609d0005e0912c12a896bbda4ab1/wizardv3mr     13\n",
       "https://avatars.mds.yandex.net/get-verba/216201/2a000001609bda17487cc63d8b957ab4aab2/wizardv3mr      9\n",
       "https://avatars.mds.yandex.net/get-verba/1030388/2a000001609cf6746b94cf8334836265daaf/wizardv3mr     8\n",
       "https://avatars.mds.yandex.net/get-verba/787013/2a000001609d6c09eb305345ee1ea7e7bd15/wizardv3mr      8\n",
       "https://avatars.mds.yandex.net/get-verba/216201/2a0000016099a4e6be992d7b50134fd908fd/wizardv3mr      7\n",
       "Name: image, dtype: int64"
      ]
     },
     "execution_count": 52,
     "metadata": {},
     "output_type": "execute_result"
    }
   ],
   "source": [
    "test_df['image'].value_counts().head()"
   ]
  },
  {
   "cell_type": "code",
   "execution_count": 53,
   "metadata": {},
   "outputs": [
    {
     "data": {
      "text/plain": [
       "200000    436\n",
       "150000    382\n",
       "300000    381\n",
       "180000    347\n",
       "250000    346\n",
       "Name: mileage, dtype: int64"
      ]
     },
     "execution_count": 53,
     "metadata": {},
     "output_type": "execute_result"
    }
   ],
   "source": [
    "test_df['mileage'].value_counts().head()"
   ]
  },
  {
   "cell_type": "code",
   "execution_count": 54,
   "metadata": {},
   "outputs": [
    {
     "data": {
      "text/plain": [
       "2010    2503\n",
       "2013    2275\n",
       "2008    2243\n",
       "2011    2173\n",
       "2006    2169\n",
       "Name: modelDate, dtype: int64"
      ]
     },
     "execution_count": 54,
     "metadata": {},
     "output_type": "execute_result"
    }
   ],
   "source": [
    "test_df['modelDate'].value_counts().head()"
   ]
  },
  {
   "cell_type": "code",
   "execution_count": 55,
   "metadata": {},
   "outputs": [
    {
     "data": {
      "text/plain": [
       "{\"code\":\"OCTAVIA\",\"name\":\"Octavia\",\"ru_name\":\"Октавия\",\"morphology\":{\"gender\":\"FEMININE\"},\"nameplate\":{\"code\":\"\",\"name\":\"\",\"semantic_url\":\"\"}}    1404\n",
       "{\"code\":\"LANCER\",\"name\":\"Lancer\",\"ru_name\":\"Лансер\",\"morphology\":{},\"nameplate\":{\"code\":\"\",\"name\":\"\",\"semantic_url\":\"\"}}                           843\n",
       "{\"code\":\"PASSAT\",\"name\":\"Passat\",\"ru_name\":\"Пассат\",\"morphology\":{},\"nameplate\":{\"code\":\"\",\"name\":\"\",\"semantic_url\":\"\"}}                           776\n",
       "{\"code\":\"A6\",\"name\":\"A6\",\"ru_name\":\"А6\",\"morphology\":{},\"nameplate\":{\"code\":\"\",\"name\":\"\",\"semantic_url\":\"\"}}                                       757\n",
       "{\"code\":\"POLO\",\"name\":\"Polo\",\"ru_name\":\"Поло\",\"morphology\":{},\"nameplate\":{\"code\":\"\",\"name\":\"\",\"semantic_url\":\"\"}}                                 724\n",
       "Name: model_info, dtype: int64"
      ]
     },
     "execution_count": 55,
     "metadata": {},
     "output_type": "execute_result"
    }
   ],
   "source": [
    "test_df['model_info'].value_counts().head()"
   ]
  },
  {
   "cell_type": "code",
   "execution_count": 56,
   "metadata": {},
   "outputs": [
    {
     "data": {
      "text/plain": [
       "OCTAVIA     1418\n",
       "5ER         1026\n",
       "LANCER       855\n",
       "E_KLASSE     809\n",
       "PASSAT       782\n",
       "Name: model_name, dtype: int64"
      ]
     },
     "execution_count": 56,
     "metadata": {},
     "output_type": "execute_result"
    }
   ],
   "source": [
    "test_df['model_name'].value_counts().head()"
   ]
  },
  {
   "cell_type": "code",
   "execution_count": 57,
   "metadata": {},
   "outputs": [
    {
     "data": {
      "text/plain": [
       "1.6 AT (110 л.с.)         631\n",
       "1.6 MT (102 л.с.)         410\n",
       "1.6 MT (110 л.с.)         314\n",
       "2.0 CVT (141 л.с.) 4WD    309\n",
       "1.4 AMT (122 л.с.)        308\n",
       "Name: name, dtype: int64"
      ]
     },
     "execution_count": 57,
     "metadata": {},
     "output_type": "execute_result"
    }
   ],
   "source": [
    "test_df['name'].value_counts().head()"
   ]
  },
  {
   "cell_type": "code",
   "execution_count": 58,
   "metadata": {},
   "outputs": [
    {
     "data": {
      "text/plain": [
       "5    18703\n",
       "4    14126\n",
       "2     1206\n",
       "3      650\n",
       "0        1\n",
       "Name: numberOfDoors, dtype: int64"
      ]
     },
     "execution_count": 58,
     "metadata": {},
     "output_type": "execute_result"
    }
   ],
   "source": [
    "test_df['numberOfDoors'].value_counts()"
   ]
  },
  {
   "cell_type": "code",
   "execution_count": 59,
   "metadata": {},
   "outputs": [
    {
     "data": {
      "text/plain": [
       "RUB    34686\n",
       "Name: priceCurrency, dtype: int64"
      ]
     },
     "execution_count": 59,
     "metadata": {},
     "output_type": "execute_result"
    }
   ],
   "source": [
    "test_df['priceCurrency'].value_counts()"
   ]
  },
  {
   "cell_type": "code",
   "execution_count": 60,
   "metadata": {},
   "outputs": [
    {
     "data": {
      "text/plain": [
       "2012    2798\n",
       "2008    2606\n",
       "2011    2589\n",
       "2013    2488\n",
       "2014    2134\n",
       "        ... \n",
       "1936       1\n",
       "1904       1\n",
       "1967       1\n",
       "1960       1\n",
       "1952       1\n",
       "Name: productionDate, Length: 69, dtype: int64"
      ]
     },
     "execution_count": 60,
     "metadata": {},
     "output_type": "execute_result"
    }
   ],
   "source": [
    "test_df['productionDate'].value_counts()"
   ]
  },
  {
   "cell_type": "code",
   "execution_count": 61,
   "metadata": {},
   "outputs": [
    {
     "data": {
      "text/plain": [
       "{\"id\":\"6214876\",\"displacement\":1598,\"engine_type\":\"GASOLINE\",\"gear_type\":\"FORWARD_CONTROL\",\"transmission\":\"MECHANICAL\",\"power\":105,\"power_kvt\":77,\"human_name\":\"1.6 MT (105 л.с.)\",\"acceleration\":10.5,\"clearance_min\":170,\"fuel_rate\":6.5}    193\n",
       "{\"id\":\"20726520\",\"displacement\":1598,\"engine_type\":\"GASOLINE\",\"gear_type\":\"FORWARD_CONTROL\",\"transmission\":\"AUTOMATIC\",\"power\":110,\"power_kvt\":81,\"human_name\":\"1.6 AT (110 л.с.)\",\"acceleration\":11.7,\"clearance_min\":163,\"fuel_rate\":5.9}    159\n",
       "{\"id\":\"4561004\",\"displacement\":1798,\"engine_type\":\"GASOLINE\",\"gear_type\":\"FORWARD_CONTROL\",\"transmission\":\"AUTOMATIC\",\"power\":152,\"power_kvt\":112,\"human_name\":\"1.8 AT (152 л.с.)\",\"acceleration\":8.8,\"clearance_min\":164,\"fuel_rate\":7.7}     148\n",
       "{\"id\":\"7277667\",\"displacement\":1598,\"engine_type\":\"GASOLINE\",\"gear_type\":\"FORWARD_CONTROL\",\"transmission\":\"VARIATOR\",\"power\":117,\"power_kvt\":86,\"human_name\":\"1.6 CVT (117 л.с.)\",\"acceleration\":11.5,\"clearance_min\":180,\"fuel_rate\":6.3}     139\n",
       "{\"id\":\"2404949\",\"displacement\":1596,\"engine_type\":\"GASOLINE\",\"gear_type\":\"FORWARD_CONTROL\",\"transmission\":\"MECHANICAL\",\"power\":107,\"power_kvt\":79,\"human_name\":\"1.6 MT (107 л.с.)\",\"acceleration\":12.1,\"clearance_min\":165,\"fuel_rate\":6.8}    131\n",
       "Name: super_gen, dtype: int64"
      ]
     },
     "execution_count": 61,
     "metadata": {},
     "output_type": "execute_result"
    }
   ],
   "source": [
    "test_df['super_gen'].value_counts().head()"
   ]
  },
  {
   "cell_type": "code",
   "execution_count": 62,
   "metadata": {},
   "outputs": [
    {
     "data": {
      "text/plain": [
       "ALLROAD_5_DOORS AUTOMATIC 3.0    2389\n",
       "SEDAN AUTOMATIC 2.0              1610\n",
       "ALLROAD_5_DOORS AUTOMATIC 2.0    1327\n",
       "ALLROAD_5_DOORS VARIATOR 2.0     1323\n",
       "SEDAN MECHANICAL 1.6             1314\n",
       "Name: vehicleConfiguration, dtype: int64"
      ]
     },
     "execution_count": 62,
     "metadata": {},
     "output_type": "execute_result"
    }
   ],
   "source": [
    "test_df['vehicleConfiguration'].value_counts().head()"
   ]
  },
  {
   "cell_type": "code",
   "execution_count": 63,
   "metadata": {},
   "outputs": [
    {
     "data": {
      "text/plain": [
       "автоматическая      19596\n",
       "механическая         7209\n",
       "вариатор             3999\n",
       "роботизированная     3882\n",
       "Name: vehicleTransmission, dtype: int64"
      ]
     },
     "execution_count": 63,
     "metadata": {},
     "output_type": "execute_result"
    }
   ],
   "source": [
    "test_df['vehicleTransmission'].value_counts().head()"
   ]
  },
  {
   "cell_type": "code",
   "execution_count": 64,
   "metadata": {},
   "outputs": [
    {
     "data": {
      "text/plain": [
       "EUROPEAN    20682\n",
       "JAPANESE    14004\n",
       "Name: vendor, dtype: int64"
      ]
     },
     "execution_count": 64,
     "metadata": {},
     "output_type": "execute_result"
    }
   ],
   "source": [
    "test_df['vendor'].value_counts().head()"
   ]
  },
  {
   "cell_type": "code",
   "execution_count": 65,
   "metadata": {},
   "outputs": [
    {
     "data": {
      "text/plain": [
       "3 или более    15957\n",
       "1 владелец      9459\n",
       "2 владельца     9270\n",
       "Name: Владельцы, dtype: int64"
      ]
     },
     "execution_count": 65,
     "metadata": {},
     "output_type": "execute_result"
    }
   ],
   "source": [
    "test_df['Владельцы'].value_counts().head()"
   ]
  },
  {
   "cell_type": "code",
   "execution_count": 66,
   "metadata": {},
   "outputs": [
    {
     "data": {
      "text/plain": [
       "1 год и 10 месяцев    209\n",
       "2 года                197\n",
       "1 год                 194\n",
       "1 год и 1 месяц       193\n",
       "1 год и 2 месяца      187\n",
       "Name: Владение, dtype: int64"
      ]
     },
     "execution_count": 66,
     "metadata": {},
     "output_type": "execute_result"
    }
   ],
   "source": [
    "test_df['Владение'].value_counts().head()"
   ]
  },
  {
   "cell_type": "code",
   "execution_count": 67,
   "metadata": {},
   "outputs": [
    {
     "data": {
      "text/plain": [
       "Оригинал    30098\n",
       "Дубликат     4587\n",
       "Name: ПТС, dtype: int64"
      ]
     },
     "execution_count": 67,
     "metadata": {},
     "output_type": "execute_result"
    }
   ],
   "source": [
    "test_df['ПТС'].value_counts().head()"
   ]
  },
  {
   "cell_type": "code",
   "execution_count": 68,
   "metadata": {},
   "outputs": [
    {
     "data": {
      "text/plain": [
       "передний    15565\n",
       "полный      15020\n",
       "задний       4101\n",
       "Name: Привод, dtype: int64"
      ]
     },
     "execution_count": 68,
     "metadata": {},
     "output_type": "execute_result"
    }
   ],
   "source": [
    "test_df['Привод'].value_counts().head()"
   ]
  },
  {
   "cell_type": "code",
   "execution_count": 69,
   "metadata": {},
   "outputs": [
    {
     "data": {
      "text/plain": [
       "Левый     33287\n",
       "Правый     1399\n",
       "Name: Руль, dtype: int64"
      ]
     },
     "execution_count": 69,
     "metadata": {},
     "output_type": "execute_result"
    }
   ],
   "source": [
    "test_df['Руль'].value_counts().head()"
   ]
  },
  {
   "cell_type": "code",
   "execution_count": 70,
   "metadata": {},
   "outputs": [
    {
     "data": {
      "text/plain": [
       "Не требует ремонта    34686\n",
       "Name: Состояние, dtype: int64"
      ]
     },
     "execution_count": 70,
     "metadata": {},
     "output_type": "execute_result"
    }
   ],
   "source": [
    "test_df['Состояние'].value_counts().head()"
   ]
  },
  {
   "cell_type": "code",
   "execution_count": 71,
   "metadata": {},
   "outputs": [
    {
     "data": {
      "text/plain": [
       "Растаможен    34686\n",
       "Name: Таможня, dtype: int64"
      ]
     },
     "execution_count": 71,
     "metadata": {},
     "output_type": "execute_result"
    }
   ],
   "source": [
    "test_df['Таможня'].value_counts().head()"
   ]
  },
  {
   "cell_type": "markdown",
   "metadata": {},
   "source": [
    "### Подведем итоги предварительного исследования признаков"
   ]
  },
  {
   "cell_type": "markdown",
   "metadata": {},
   "source": [
    "Все признаки:\n",
    "\n",
    "- bodyType - тип кузова (седан, внедорожник 5 дв., лифтбек, хэтчбек 5 дв., универсал 5 дв и т.д.)\n",
    "- brand - марка авто\n",
    "- car_url - ссылка на страницу объявления\n",
    "- color - цвет\n",
    "- complectation_dict - детали комплектации (даны не всегда)\n",
    "- description - описание объявления\n",
    "- engineDisplacement - объем двигателя (в литрах)\n",
    "- enginePower - мощность двигателя (в л.с.)\n",
    "- equipmentDict - больше деталей комплектации\n",
    "- fuelType - тип потребляемого топлива\n",
    "- image - ссылка на изображение\n",
    "- mileage - пробег\n",
    "- modelDate - год выпуска данной модели авто\n",
    "- model_info - детали о модели\n",
    "- model_name - название модели\n",
    "- name - объем-коробка передач-мощность двигателя\n",
    "- numberOfDoors - кол-во дверей\n",
    "- parsing_unixtime - когда объявление было спарсено (время Unix)\n",
    "- priceCurrency - валюта (все сэмплы в рублях)\n",
    "- productionDate - год выпуска авто\n",
    "- sell_id - уникальный идентификатор объявления\n",
    "- super_gen - детали двигателя (повторно) + клиренс + потребление топлива\n",
    "- vehicleConfiguration - конфигурация авто (тип кузова-коробка передач-объем двигателя)\n",
    "- vehicleTransmission - коробка передач (автоматическая, механическая, вариатор, роботизированная)\n",
    "- vendor - страна-производитель (EUROPEAN, JAPANESE)\n",
    "- Владельцы - кол-во предыдущих владельцев авто\n",
    "- Владение - период владения авто\n",
    "- ПТС - паспорт технического средства\n",
    "- Привод - 12% сэмплов с задним приводом, 45% с передним, 43% с полным\n",
    "- Руль - 96% сэмплов с левым рулем\n",
    "- Состояние - все сэмплы не требуют ремонта\n",
    "- Таможня - все сэмплы растаможены"
   ]
  },
  {
   "cell_type": "markdown",
   "metadata": {},
   "source": [
    "Не используем:\n",
    "\n",
    "- car_url - не дает никакой информации для модели; разный для каждого авто\n",
    "- complectation_dict - непостоянный набор данных о комплектации авто; у ~82% авто нет данного атрибута\n",
    "- description - тяжело анализировать текстовое описание (необходимо анализировать текст); у каждого авто есть этот атрибут\n",
    "- image - тяжело анализировать (необходимо применять компьютерное зрение); не дает никакой информации для модели\n",
    "- model_info - та же информация хранится в model_name\n",
    "- name - повторяющаяся информация (объем двигателя-мощность-трансмиссия)\n",
    "- parsing_unixtime - для модели не имеет никакой информации\n",
    "- priceCurrency - все в рублях (если нет, то можно перевести по курсу на дату парсинга)\n",
    "- vehicleConfigurateion - повторяющая информация (то же самое есть в bodyType, vehicleTransmission и engineDisplacement)\n",
    "- Владение - в результате изучения данных узнали что у 65% сэмплов отсутствует этот атрибут\n",
    "- Состояние - все авто не требуют ремонта\n",
    "- Таможня - все авто растаможены"
   ]
  },
  {
   "cell_type": "markdown",
   "metadata": {},
   "source": [
    "Отложим на будущее:\n",
    "\n",
    "- equipmentDict - показывает словарь с деталями комплектации (ключи словаря являются названием детали, но значение всегда равно true); необходимо будет поработать над этим признаком, потому что он может сильно влиять на таргетное значение)\n",
    "- super_gen - детали двигателя (топливо, расход, мощность), трансмиссия, ускорение, клиренс; необходимо детальнее изучить различные значения и обработать признак"
   ]
  },
  {
   "cell_type": "markdown",
   "metadata": {},
   "source": [
    "В первой итерации используем:\n",
    "\n",
    "- bodyType - тип кузова (седан, внедорожник 5 дв., лифтбек, хэтчбек 5 дв., универсал 5 дв и т.д.)\n",
    "- brand - марка авто\n",
    "- color - цвет\n",
    "- engineDisplacement - объем двигателя (в литрах)\n",
    "- enginePower - мощность двигателя (в л.с.)\n",
    "- fuelType - тип потребляемого топлива\n",
    "- mileage - пробег\n",
    "- modelDate - год выпуска данной модели авто\n",
    "- model_name - название модели\n",
    "- numberOfDoors - кол-во дверей\n",
    "- productionDate - год выпуска авто\n",
    "- sell_id - используется только в сабмишне\n",
    "- vehicleConfiguration - конфигурация авто (тип кузова-коробка передач-объем двигателя)\n",
    "- vehicleTransmission - коробка передач (автоматическая, механическая, вариатор, роботизированная)\n",
    "- vendor - страна-производитель (EUROPEAN, JAPANESE)\n",
    "- Владельцы - кол-во предыдущих владельцев авто\n",
    "- ПТС - паспорт технического средства\n",
    "- Привод - 12% сэмплов с задним приводом, 45% с передним, 43% с полным\n",
    "- Руль - 96% сэмплов с левым рулем\n",
    "\n",
    "Из них требуют обработки: \n",
    "\n",
    "- engineDisplacement - избавляемся от слова LTR; также у 55 авто атрибут является ' LTR'\n",
    "- enginePower - необходимо узнать что значит N12; тоже будем избавляться от этой части"
   ]
  },
  {
   "cell_type": "markdown",
   "metadata": {},
   "source": [
    "### Распределение признаков\n",
    "\n",
    "Давайте посмотрим на распределение признаков. Для этого, построим гистограммы для признаков, которые имеют какой-то смысл и будут использованы в модели."
   ]
  },
  {
   "cell_type": "code",
   "execution_count": 72,
   "metadata": {},
   "outputs": [
    {
     "data": {
      "image/png": "[encoded data removed]",
      "text/plain": [
       "<Figure size 1152x1440 with 4 Axes>"
      ]
     },
     "metadata": {
      "needs_background": "light"
     },
     "output_type": "display_data"
    }
   ],
   "source": [
    "fig = plt.figure(figsize=(16, 20))\n",
    "\n",
    "plt.subplot(411); plt.hist(test_df['brand'])\n",
    "plt.subplot(412); plt.hist(test_df['color'])\n",
    "plt.subplot(413); plt.hist(test_df['fuelType'])\n",
    "plt.subplot(414); plt.hist(test_df['mileage'])\n",
    "\n",
    "plt.show()"
   ]
  },
  {
   "cell_type": "markdown",
   "metadata": {},
   "source": [
    "### Контрольная проверка на пустые значения\n",
    "\n",
    "Мы забыли проверить какие же колонки имеют пустые значения. Так как мы составили список нужных колонок, изучим их на NaN поля. \n",
    "\n",
    "Для единственного сэмпла с пустым значением 'ПТС' мы можем выставить его случайным образом (либо попробовать предположить его из остальных колонок). В данном случае это значение Оригинал."
   ]
  },
  {
   "cell_type": "code",
   "execution_count": 80,
   "metadata": {},
   "outputs": [
    {
     "data": {
      "text/plain": [
       "bodyType               0\n",
       "brand                  0\n",
       "color                  0\n",
       "engineDisplacement     0\n",
       "enginePower            0\n",
       "fuelType               0\n",
       "mileage                0\n",
       "modelDate              0\n",
       "model_name             0\n",
       "numberOfDoors          0\n",
       "productionDate         0\n",
       "sell_id                0\n",
       "vehicleTransmission    0\n",
       "vendor                 0\n",
       "Владельцы              0\n",
       "ПТС                    0\n",
       "Привод                 0\n",
       "Руль                   0\n",
       "dtype: int64"
      ]
     },
     "execution_count": 80,
     "metadata": {},
     "output_type": "execute_result"
    }
   ],
   "source": [
    "# выделим список используемых колонок\n",
    "columns_to_use = ['bodyType', 'brand', 'color', 'engineDisplacement', 'enginePower', 'fuelType', 'mileage', 'modelDate', \n",
    "                 'model_name', 'numberOfDoors', 'productionDate', 'sell_id', 'vehicleTransmission', 'vendor', \n",
    "                  'Владельцы', 'ПТС', 'Привод', 'Руль']\n",
    "\n",
    "# обновим тестовый датафрейм\n",
    "test_df = test_df[columns_to_use]\n",
    "# отобразим кол-во пустых значений\n",
    "test_df.isnull().sum()"
   ]
  },
  {
   "cell_type": "code",
   "execution_count": 78,
   "metadata": {},
   "outputs": [
    {
     "data": {
      "text/plain": [
       "Оригинал    30099\n",
       "Дубликат     4587\n",
       "Name: ПТС, dtype: int64"
      ]
     },
     "execution_count": 78,
     "metadata": {},
     "output_type": "execute_result"
    }
   ],
   "source": [
    "test_df['ПТС'].value_counts()"
   ]
  },
  {
   "cell_type": "code",
   "execution_count": 79,
   "metadata": {},
   "outputs": [],
   "source": [
    "# Поставим значение ПТС для единственного сэмпла (у которого значение пропущено) \n",
    "# на то, что более распространено - Оригинал\n",
    "test_df.loc[test_df['ПТС'].isna(), 'ПТС'] = 'Оригинал'"
   ]
  },
  {
   "cell_type": "markdown",
   "metadata": {},
   "source": [
    "### Обработка признаков \n",
    "\n",
    "Для engineDisplacement и enginePower напишем функцию, которая просто выделяет первую слово из строки, таким образом избавляясь от слов LTR и N12. Стоит учесть что есть 55 сэмплов, у которых атрибут engineDisplacement указан как пустая строка. Это электроавтомобили, поэтому объем их двигателя не указан; их мы устанавливаем на значение 0. Также переводим данные значения в float."
   ]
  },
  {
   "cell_type": "code",
   "execution_count": 81,
   "metadata": {},
   "outputs": [],
   "source": [
    "\"\"\"\n",
    "Вытаскиваем первое слово из строки\n",
    "Применимо к engineDisplacement и enginePower\n",
    "\"\"\"\n",
    "def convert_engine_details(value):\n",
    "    splitted = value.split()\n",
    "    return float(splitted[0]) if len(splitted) > 1 else 0.0"
   ]
  },
  {
   "cell_type": "code",
   "execution_count": 82,
   "metadata": {},
   "outputs": [],
   "source": [
    "# трансформируем engineDisplacement и enginePower (объем и мощность двигателя)\n",
    "test_df['engineDisplacement'] = test_df['engineDisplacement'].apply(convert_engine_details)\n",
    "test_df['enginePower'] = test_df['enginePower'].apply(convert_engine_details)"
   ]
  },
  {
   "cell_type": "markdown",
   "metadata": {},
   "source": [
    "### Сохраним результат обработки"
   ]
  },
  {
   "cell_type": "code",
   "execution_count": 83,
   "metadata": {},
   "outputs": [],
   "source": [
    "test_df.to_csv('data/test_modified.csv', index=None)"
   ]
  },
  {
   "cell_type": "code",
   "execution_count": null,
   "metadata": {},
   "outputs": [],
   "source": []
  }
 ],
 "metadata": {
  "kernelspec": {
   "display_name": "Python 3",
   "language": "python",
   "name": "python3"
  },
  "language_info": {
   "codemirror_mode": {
    "name": "ipython",
    "version": 3
   },
   "file_extension": ".py",
   "mimetype": "text/x-python",
   "name": "python",
   "nbconvert_exporter": "python",
   "pygments_lexer": "ipython3",
   "version": "3.7.7"
  }
 },
 "nbformat": 4,
 "nbformat_minor": 4
}
