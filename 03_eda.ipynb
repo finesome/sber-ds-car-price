{
 "cells": [
  {
   "cell_type": "markdown",
   "metadata": {},
   "source": [
    "## 03. Практический кейс. Исследовательский анализ данных."
   ]
  },
  {
   "cell_type": "code",
   "execution_count": 1,
   "metadata": {},
   "outputs": [],
   "source": [
    "import numpy as np\n",
    "import pandas as pd\n",
    "import matplotlib.pyplot as plt\n",
    "import seaborn as sns\n",
    "from datetime import datetime\n",
    "\n",
    "%matplotlib inline"
   ]
  },
  {
   "cell_type": "code",
   "execution_count": 2,
   "metadata": {},
   "outputs": [],
   "source": [
    "pd.set_option('display.max_columns', None)"
   ]
  },
  {
   "cell_type": "code",
   "execution_count": 66,
   "metadata": {},
   "outputs": [],
   "source": [
    "# open data\n",
    "train_df = pd.read_csv('data/train.csv')\n",
    "test_df = pd.read_csv('data/test.csv')"
   ]
  },
  {
   "cell_type": "markdown",
   "metadata": {},
   "source": [
    "### Посмотрим на признаки"
   ]
  },
  {
   "cell_type": "code",
   "execution_count": 57,
   "metadata": {},
   "outputs": [
    {
     "name": "stdout",
     "output_type": "stream",
     "text": [
      "<class 'pandas.core.frame.DataFrame'>\n",
      "RangeIndex: 119728 entries, 0 to 119727\n",
      "Data columns (total 17 columns):\n",
      " #   Column               Non-Null Count   Dtype  \n",
      "---  ------               --------------   -----  \n",
      " 0   bodyType             119728 non-null  object \n",
      " 1   brand                119728 non-null  object \n",
      " 2   color                119728 non-null  object \n",
      " 3   engineDisplacement   119728 non-null  float64\n",
      " 4   enginePower          119728 non-null  float64\n",
      " 5   fuelType             119728 non-null  object \n",
      " 6   mileage              119728 non-null  int64  \n",
      " 7   modelName            119728 non-null  object \n",
      " 8   years                119728 non-null  int64  \n",
      " 9   vehicleTransmission  119728 non-null  object \n",
      " 10  vendor               119728 non-null  object \n",
      " 11  Владельцы            119728 non-null  object \n",
      " 12  ПТС                  119728 non-null  object \n",
      " 13  Привод               119728 non-null  object \n",
      " 14  Руль                 119728 non-null  object \n",
      " 15  price                119728 non-null  float64\n",
      " 16  mileagePerYear       119728 non-null  float64\n",
      "dtypes: float64(4), int64(2), object(11)\n",
      "memory usage: 15.5+ MB\n"
     ]
    }
   ],
   "source": [
    "train_df.info()"
   ]
  },
  {
   "cell_type": "code",
   "execution_count": 58,
   "metadata": {},
   "outputs": [
    {
     "data": {
      "text/html": [
       "<div>\n",
       "<style scoped>\n",
       "    .dataframe tbody tr th:only-of-type {\n",
       "        vertical-align: middle;\n",
       "    }\n",
       "\n",
       "    .dataframe tbody tr th {\n",
       "        vertical-align: top;\n",
       "    }\n",
       "\n",
       "    .dataframe thead th {\n",
       "        text-align: right;\n",
       "    }\n",
       "</style>\n",
       "<table border=\"1\" class=\"dataframe\">\n",
       "  <thead>\n",
       "    <tr style=\"text-align: right;\">\n",
       "      <th></th>\n",
       "      <th>bodyType</th>\n",
       "      <th>brand</th>\n",
       "      <th>color</th>\n",
       "      <th>engineDisplacement</th>\n",
       "      <th>enginePower</th>\n",
       "      <th>fuelType</th>\n",
       "      <th>mileage</th>\n",
       "      <th>modelName</th>\n",
       "      <th>years</th>\n",
       "      <th>vehicleTransmission</th>\n",
       "      <th>vendor</th>\n",
       "      <th>Владельцы</th>\n",
       "      <th>ПТС</th>\n",
       "      <th>Привод</th>\n",
       "      <th>Руль</th>\n",
       "      <th>price</th>\n",
       "      <th>mileagePerYear</th>\n",
       "    </tr>\n",
       "  </thead>\n",
       "  <tbody>\n",
       "    <tr>\n",
       "      <th>0</th>\n",
       "      <td>лифтбек</td>\n",
       "      <td>SKODA</td>\n",
       "      <td>белый</td>\n",
       "      <td>2.0</td>\n",
       "      <td>220.0</td>\n",
       "      <td>бензин</td>\n",
       "      <td>210000</td>\n",
       "      <td>OCTAVIA_RS</td>\n",
       "      <td>7</td>\n",
       "      <td>роботизированная</td>\n",
       "      <td>EUROPEAN</td>\n",
       "      <td>2 владельца</td>\n",
       "      <td>Оригинал</td>\n",
       "      <td>передний</td>\n",
       "      <td>Левый</td>\n",
       "      <td>1075000.0</td>\n",
       "      <td>26250.0</td>\n",
       "    </tr>\n",
       "    <tr>\n",
       "      <th>1</th>\n",
       "      <td>лифтбек</td>\n",
       "      <td>SKODA</td>\n",
       "      <td>синий</td>\n",
       "      <td>2.0</td>\n",
       "      <td>200.0</td>\n",
       "      <td>бензин</td>\n",
       "      <td>221000</td>\n",
       "      <td>OCTAVIA_RS</td>\n",
       "      <td>9</td>\n",
       "      <td>роботизированная</td>\n",
       "      <td>EUROPEAN</td>\n",
       "      <td>2 владельца</td>\n",
       "      <td>Оригинал</td>\n",
       "      <td>передний</td>\n",
       "      <td>Левый</td>\n",
       "      <td>872000.0</td>\n",
       "      <td>22100.0</td>\n",
       "    </tr>\n",
       "    <tr>\n",
       "      <th>2</th>\n",
       "      <td>лифтбек</td>\n",
       "      <td>SKODA</td>\n",
       "      <td>серый</td>\n",
       "      <td>2.0</td>\n",
       "      <td>200.0</td>\n",
       "      <td>бензин</td>\n",
       "      <td>86236</td>\n",
       "      <td>OCTAVIA_RS</td>\n",
       "      <td>9</td>\n",
       "      <td>роботизированная</td>\n",
       "      <td>EUROPEAN</td>\n",
       "      <td>2 владельца</td>\n",
       "      <td>Оригинал</td>\n",
       "      <td>передний</td>\n",
       "      <td>Левый</td>\n",
       "      <td>650000.0</td>\n",
       "      <td>8624.0</td>\n",
       "    </tr>\n",
       "    <tr>\n",
       "      <th>3</th>\n",
       "      <td>лифтбек</td>\n",
       "      <td>SKODA</td>\n",
       "      <td>чёрный</td>\n",
       "      <td>2.0</td>\n",
       "      <td>200.0</td>\n",
       "      <td>бензин</td>\n",
       "      <td>150000</td>\n",
       "      <td>OCTAVIA_RS</td>\n",
       "      <td>9</td>\n",
       "      <td>роботизированная</td>\n",
       "      <td>EUROPEAN</td>\n",
       "      <td>3 или более</td>\n",
       "      <td>Дубликат</td>\n",
       "      <td>передний</td>\n",
       "      <td>Левый</td>\n",
       "      <td>725000.0</td>\n",
       "      <td>15000.0</td>\n",
       "    </tr>\n",
       "    <tr>\n",
       "      <th>4</th>\n",
       "      <td>лифтбек</td>\n",
       "      <td>SKODA</td>\n",
       "      <td>серый</td>\n",
       "      <td>2.0</td>\n",
       "      <td>200.0</td>\n",
       "      <td>бензин</td>\n",
       "      <td>136505</td>\n",
       "      <td>OCTAVIA_RS</td>\n",
       "      <td>10</td>\n",
       "      <td>роботизированная</td>\n",
       "      <td>EUROPEAN</td>\n",
       "      <td>2 владельца</td>\n",
       "      <td>Оригинал</td>\n",
       "      <td>передний</td>\n",
       "      <td>Левый</td>\n",
       "      <td>740000.0</td>\n",
       "      <td>12410.0</td>\n",
       "    </tr>\n",
       "  </tbody>\n",
       "</table>\n",
       "</div>"
      ],
      "text/plain": [
       "  bodyType  brand   color  engineDisplacement  enginePower fuelType  mileage  \\\n",
       "0  лифтбек  SKODA   белый                 2.0        220.0   бензин   210000   \n",
       "1  лифтбек  SKODA   синий                 2.0        200.0   бензин   221000   \n",
       "2  лифтбек  SKODA   серый                 2.0        200.0   бензин    86236   \n",
       "3  лифтбек  SKODA  чёрный                 2.0        200.0   бензин   150000   \n",
       "4  лифтбек  SKODA   серый                 2.0        200.0   бензин   136505   \n",
       "\n",
       "    modelName  years vehicleTransmission    vendor    Владельцы       ПТС  \\\n",
       "0  OCTAVIA_RS      7    роботизированная  EUROPEAN  2 владельца  Оригинал   \n",
       "1  OCTAVIA_RS      9    роботизированная  EUROPEAN  2 владельца  Оригинал   \n",
       "2  OCTAVIA_RS      9    роботизированная  EUROPEAN  2 владельца  Оригинал   \n",
       "3  OCTAVIA_RS      9    роботизированная  EUROPEAN  3 или более  Дубликат   \n",
       "4  OCTAVIA_RS     10    роботизированная  EUROPEAN  2 владельца  Оригинал   \n",
       "\n",
       "     Привод   Руль      price  mileagePerYear  \n",
       "0  передний  Левый  1075000.0         26250.0  \n",
       "1  передний  Левый   872000.0         22100.0  \n",
       "2  передний  Левый   650000.0          8624.0  \n",
       "3  передний  Левый   725000.0         15000.0  \n",
       "4  передний  Левый   740000.0         12410.0  "
      ]
     },
     "execution_count": 58,
     "metadata": {},
     "output_type": "execute_result"
    }
   ],
   "source": [
    "train_df.head(5)"
   ]
  },
  {
   "cell_type": "markdown",
   "metadata": {},
   "source": [
    "#### Переименуем model_name"
   ]
  },
  {
   "cell_type": "code",
   "execution_count": 6,
   "metadata": {},
   "outputs": [],
   "source": [
    "train_df = train_df.rename(columns={'model_name': 'modelName'})\n",
    "test_df = test_df.rename(columns={'model_name': 'modelName'})"
   ]
  },
  {
   "cell_type": "markdown",
   "metadata": {},
   "source": [
    "#### Поменяем productionDate на years"
   ]
  },
  {
   "cell_type": "code",
   "execution_count": 50,
   "metadata": {},
   "outputs": [],
   "source": [
    "def convert_date_to_years(df):\n",
    "    this_year = datetime.now().year\n",
    "    years_passed = this_year - df['productionDate']\n",
    "    \n",
    "    # replace with years\n",
    "    df.loc[:, 'productionDate'] = years_passed\n",
    "    # rename\n",
    "    df.rename(columns={'productionDate': 'years'}, inplace=True)"
   ]
  },
  {
   "cell_type": "code",
   "execution_count": null,
   "metadata": {},
   "outputs": [],
   "source": [
    "convert_date_to_years(train_df)\n",
    "convert_date_to_years(test_df)"
   ]
  },
  {
   "cell_type": "markdown",
   "metadata": {},
   "source": [
    "#### Уберем \\xa0 в Владельцы тестового датасета"
   ]
  },
  {
   "cell_type": "code",
   "execution_count": 63,
   "metadata": {},
   "outputs": [],
   "source": [
    "test_df.loc[:, 'Владельцы'] = test_df['Владельцы'].apply(lambda x: x.replace('\\xa0', ' '))"
   ]
  },
  {
   "cell_type": "markdown",
   "metadata": {},
   "source": [
    "#### Удаляем авто моделей, которых нет в тестовом датасете"
   ]
  },
  {
   "cell_type": "code",
   "execution_count": 78,
   "metadata": {},
   "outputs": [],
   "source": [
    "test_models = test_df['modelName'].unique()\n",
    "train_models = train_df['modelName'].unique()\n",
    "\n",
    "train_df = train_df[train_df['modelName'].isin(test_models)]"
   ]
  },
  {
   "cell_type": "markdown",
   "metadata": {},
   "source": [
    "### Добавим некоторые признаки"
   ]
  },
  {
   "cell_type": "markdown",
   "metadata": {},
   "source": [
    "#### Пробег за год"
   ]
  },
  {
   "cell_type": "code",
   "execution_count": 44,
   "metadata": {},
   "outputs": [],
   "source": [
    "def add_mileage_per_year(df):\n",
    "    years_passed = df['years'] + 1\n",
    "\n",
    "    mileage_per_year = df['mileage'] / years_passed\n",
    "    mileage_per_year[mileage_per_year == np.inf] = 0 # fix infinity values\n",
    "\n",
    "    df.loc[:, 'mileagePerYear'] = np.round(mileage_per_year)"
   ]
  },
  {
   "cell_type": "code",
   "execution_count": 45,
   "metadata": {},
   "outputs": [],
   "source": [
    "add_mileage_per_year(train_df)\n",
    "add_mileage_per_year(test_df)"
   ]
  },
  {
   "cell_type": "code",
   "execution_count": 79,
   "metadata": {},
   "outputs": [],
   "source": [
    "# save both dataframes\n",
    "train_df.to_csv('data/train.csv', index=None)\n",
    "test_df.to_csv('data/test.csv', index=None)"
   ]
  },
  {
   "cell_type": "markdown",
   "metadata": {},
   "source": [
    "### Изучим корреляцию между признаками"
   ]
  },
  {
   "cell_type": "code",
   "execution_count": 7,
   "metadata": {},
   "outputs": [
    {
     "data": {
      "text/plain": [
       "price                 1.000000\n",
       "engineDisplacement    0.391119\n",
       "enginePower           0.552892\n",
       "mileage              -0.468470\n",
       "productionDate        0.519956\n",
       "Name: price, dtype: float64"
      ]
     },
     "execution_count": 7,
     "metadata": {},
     "output_type": "execute_result"
    }
   ],
   "source": [
    "# correlation of numerical features with price\n",
    "train_df.corr()['price']"
   ]
  },
  {
   "cell_type": "code",
   "execution_count": 13,
   "metadata": {},
   "outputs": [
    {
     "data": {
      "text/html": [
       "<style  type=\"text/css\" >\n",
       "    #T_9f79593c_5785_11eb_bf6c_acde48001122 th {\n",
       "          font-size: 7pt;\n",
       "    }    #T_9f79593c_5785_11eb_bf6c_acde48001122 td {\n",
       "          padding: 1em;\n",
       "    }    #T_9f79593c_5785_11eb_bf6c_acde48001122 th:hover {\n",
       "          font-size: 12pt;\n",
       "    }    #T_9f79593c_5785_11eb_bf6c_acde48001122 tr:hover td:hover {\n",
       "          max-width: 200px;\n",
       "          font-size: 12pt;\n",
       "    }#T_9f79593c_5785_11eb_bf6c_acde48001122row0_col0,#T_9f79593c_5785_11eb_bf6c_acde48001122row1_col1,#T_9f79593c_5785_11eb_bf6c_acde48001122row2_col2,#T_9f79593c_5785_11eb_bf6c_acde48001122row3_col3,#T_9f79593c_5785_11eb_bf6c_acde48001122row4_col4,#T_9f79593c_5785_11eb_bf6c_acde48001122row5_col5{\n",
       "            background-color:  #4479bb;\n",
       "            color:  #000000;\n",
       "            max-width:  80px;\n",
       "            font-size:  10pt;\n",
       "        }#T_9f79593c_5785_11eb_bf6c_acde48001122row0_col1,#T_9f79593c_5785_11eb_bf6c_acde48001122row1_col4,#T_9f79593c_5785_11eb_bf6c_acde48001122row2_col1,#T_9f79593c_5785_11eb_bf6c_acde48001122row3_col1,#T_9f79593c_5785_11eb_bf6c_acde48001122row4_col1,#T_9f79593c_5785_11eb_bf6c_acde48001122row5_col1{\n",
       "            background-color:  #d73c5b;\n",
       "            color:  #f1f1f1;\n",
       "            max-width:  80px;\n",
       "            font-size:  10pt;\n",
       "        }#T_9f79593c_5785_11eb_bf6c_acde48001122row0_col2,#T_9f79593c_5785_11eb_bf6c_acde48001122row1_col3,#T_9f79593c_5785_11eb_bf6c_acde48001122row3_col2{\n",
       "            background-color:  #eabcc5;\n",
       "            color:  #000000;\n",
       "            max-width:  80px;\n",
       "            font-size:  10pt;\n",
       "        }#T_9f79593c_5785_11eb_bf6c_acde48001122row0_col3{\n",
       "            background-color:  #e17a8f;\n",
       "            color:  #000000;\n",
       "            max-width:  80px;\n",
       "            font-size:  10pt;\n",
       "        }#T_9f79593c_5785_11eb_bf6c_acde48001122row0_col4,#T_9f79593c_5785_11eb_bf6c_acde48001122row1_col0{\n",
       "            background-color:  #e9b5bf;\n",
       "            color:  #000000;\n",
       "            max-width:  80px;\n",
       "            font-size:  10pt;\n",
       "        }#T_9f79593c_5785_11eb_bf6c_acde48001122row0_col5{\n",
       "            background-color:  #c9d6e6;\n",
       "            color:  #000000;\n",
       "            max-width:  80px;\n",
       "            font-size:  10pt;\n",
       "        }#T_9f79593c_5785_11eb_bf6c_acde48001122row1_col2{\n",
       "            background-color:  #d8405e;\n",
       "            color:  #f1f1f1;\n",
       "            max-width:  80px;\n",
       "            font-size:  10pt;\n",
       "        }#T_9f79593c_5785_11eb_bf6c_acde48001122row1_col5{\n",
       "            background-color:  #e07389;\n",
       "            color:  #000000;\n",
       "            max-width:  80px;\n",
       "            font-size:  10pt;\n",
       "        }#T_9f79593c_5785_11eb_bf6c_acde48001122row2_col0{\n",
       "            background-color:  #dbe2eb;\n",
       "            color:  #000000;\n",
       "            max-width:  80px;\n",
       "            font-size:  10pt;\n",
       "        }#T_9f79593c_5785_11eb_bf6c_acde48001122row2_col3{\n",
       "            background-color:  #d7dfea;\n",
       "            color:  #000000;\n",
       "            max-width:  80px;\n",
       "            font-size:  10pt;\n",
       "        }#T_9f79593c_5785_11eb_bf6c_acde48001122row2_col4,#T_9f79593c_5785_11eb_bf6c_acde48001122row4_col2{\n",
       "            background-color:  #477bbb;\n",
       "            color:  #000000;\n",
       "            max-width:  80px;\n",
       "            font-size:  10pt;\n",
       "        }#T_9f79593c_5785_11eb_bf6c_acde48001122row2_col5{\n",
       "            background-color:  #abc1dc;\n",
       "            color:  #000000;\n",
       "            max-width:  80px;\n",
       "            font-size:  10pt;\n",
       "        }#T_9f79593c_5785_11eb_bf6c_acde48001122row3_col0{\n",
       "            background-color:  #df7288;\n",
       "            color:  #000000;\n",
       "            max-width:  80px;\n",
       "            font-size:  10pt;\n",
       "        }#T_9f79593c_5785_11eb_bf6c_acde48001122row3_col4{\n",
       "            background-color:  #ebbec6;\n",
       "            color:  #000000;\n",
       "            max-width:  80px;\n",
       "            font-size:  10pt;\n",
       "        }#T_9f79593c_5785_11eb_bf6c_acde48001122row3_col5{\n",
       "            background-color:  #e28799;\n",
       "            color:  #000000;\n",
       "            max-width:  80px;\n",
       "            font-size:  10pt;\n",
       "        }#T_9f79593c_5785_11eb_bf6c_acde48001122row4_col0{\n",
       "            background-color:  #dee4ec;\n",
       "            color:  #000000;\n",
       "            max-width:  80px;\n",
       "            font-size:  10pt;\n",
       "        }#T_9f79593c_5785_11eb_bf6c_acde48001122row4_col3{\n",
       "            background-color:  #d4dde9;\n",
       "            color:  #000000;\n",
       "            max-width:  80px;\n",
       "            font-size:  10pt;\n",
       "        }#T_9f79593c_5785_11eb_bf6c_acde48001122row4_col5{\n",
       "            background-color:  #a9bfdb;\n",
       "            color:  #000000;\n",
       "            max-width:  80px;\n",
       "            font-size:  10pt;\n",
       "        }#T_9f79593c_5785_11eb_bf6c_acde48001122row5_col0{\n",
       "            background-color:  #adc2dd;\n",
       "            color:  #000000;\n",
       "            max-width:  80px;\n",
       "            font-size:  10pt;\n",
       "        }#T_9f79593c_5785_11eb_bf6c_acde48001122row5_col2,#T_9f79593c_5785_11eb_bf6c_acde48001122row5_col4{\n",
       "            background-color:  #bccce1;\n",
       "            color:  #000000;\n",
       "            max-width:  80px;\n",
       "            font-size:  10pt;\n",
       "        }#T_9f79593c_5785_11eb_bf6c_acde48001122row5_col3{\n",
       "            background-color:  #edcad1;\n",
       "            color:  #000000;\n",
       "            max-width:  80px;\n",
       "            font-size:  10pt;\n",
       "        }</style><table id=\"T_9f79593c_5785_11eb_bf6c_acde48001122\" ><caption>Hover to magify</caption><thead>    <tr>        <th class=\"blank level0\" ></th>        <th class=\"col_heading level0 col0\" >enginePower</th>        <th class=\"col_heading level0 col1\" >mileage</th>        <th class=\"col_heading level0 col2\" >modelDate</th>        <th class=\"col_heading level0 col3\" >numberOfDoors</th>        <th class=\"col_heading level0 col4\" >productionDate</th>        <th class=\"col_heading level0 col5\" >price</th>    </tr></thead><tbody>\n",
       "                <tr>\n",
       "                        <th id=\"T_9f79593c_5785_11eb_bf6c_acde48001122level0_row0\" class=\"row_heading level0 row0\" >enginePower</th>\n",
       "                        <td id=\"T_9f79593c_5785_11eb_bf6c_acde48001122row0_col0\" class=\"data row0 col0\" >1.00</td>\n",
       "                        <td id=\"T_9f79593c_5785_11eb_bf6c_acde48001122row0_col1\" class=\"data row0 col1\" >-0.19</td>\n",
       "                        <td id=\"T_9f79593c_5785_11eb_bf6c_acde48001122row0_col2\" class=\"data row0 col2\" >0.23</td>\n",
       "                        <td id=\"T_9f79593c_5785_11eb_bf6c_acde48001122row0_col3\" class=\"data row0 col3\" >0.02</td>\n",
       "                        <td id=\"T_9f79593c_5785_11eb_bf6c_acde48001122row0_col4\" class=\"data row0 col4\" >0.21</td>\n",
       "                        <td id=\"T_9f79593c_5785_11eb_bf6c_acde48001122row0_col5\" class=\"data row0 col5\" >0.54</td>\n",
       "            </tr>\n",
       "            <tr>\n",
       "                        <th id=\"T_9f79593c_5785_11eb_bf6c_acde48001122level0_row1\" class=\"row_heading level0 row1\" >mileage</th>\n",
       "                        <td id=\"T_9f79593c_5785_11eb_bf6c_acde48001122row1_col0\" class=\"data row1 col0\" >-0.19</td>\n",
       "                        <td id=\"T_9f79593c_5785_11eb_bf6c_acde48001122row1_col1\" class=\"data row1 col1\" >1.00</td>\n",
       "                        <td id=\"T_9f79593c_5785_11eb_bf6c_acde48001122row1_col2\" class=\"data row1 col2\" >-0.76</td>\n",
       "                        <td id=\"T_9f79593c_5785_11eb_bf6c_acde48001122row1_col3\" class=\"data row1 col3\" >-0.15</td>\n",
       "                        <td id=\"T_9f79593c_5785_11eb_bf6c_acde48001122row1_col4\" class=\"data row1 col4\" >-0.78</td>\n",
       "                        <td id=\"T_9f79593c_5785_11eb_bf6c_acde48001122row1_col5\" class=\"data row1 col5\" >-0.50</td>\n",
       "            </tr>\n",
       "            <tr>\n",
       "                        <th id=\"T_9f79593c_5785_11eb_bf6c_acde48001122level0_row2\" class=\"row_heading level0 row2\" >modelDate</th>\n",
       "                        <td id=\"T_9f79593c_5785_11eb_bf6c_acde48001122row2_col0\" class=\"data row2 col0\" >0.23</td>\n",
       "                        <td id=\"T_9f79593c_5785_11eb_bf6c_acde48001122row2_col1\" class=\"data row2 col1\" >-0.76</td>\n",
       "                        <td id=\"T_9f79593c_5785_11eb_bf6c_acde48001122row2_col2\" class=\"data row2 col2\" >1.00</td>\n",
       "                        <td id=\"T_9f79593c_5785_11eb_bf6c_acde48001122row2_col3\" class=\"data row2 col3\" >0.25</td>\n",
       "                        <td id=\"T_9f79593c_5785_11eb_bf6c_acde48001122row2_col4\" class=\"data row2 col4\" >0.98</td>\n",
       "                        <td id=\"T_9f79593c_5785_11eb_bf6c_acde48001122row2_col5\" class=\"data row2 col5\" >0.48</td>\n",
       "            </tr>\n",
       "            <tr>\n",
       "                        <th id=\"T_9f79593c_5785_11eb_bf6c_acde48001122level0_row3\" class=\"row_heading level0 row3\" >numberOfDoors</th>\n",
       "                        <td id=\"T_9f79593c_5785_11eb_bf6c_acde48001122row3_col0\" class=\"data row3 col0\" >0.02</td>\n",
       "                        <td id=\"T_9f79593c_5785_11eb_bf6c_acde48001122row3_col1\" class=\"data row3 col1\" >-0.15</td>\n",
       "                        <td id=\"T_9f79593c_5785_11eb_bf6c_acde48001122row3_col2\" class=\"data row3 col2\" >0.25</td>\n",
       "                        <td id=\"T_9f79593c_5785_11eb_bf6c_acde48001122row3_col3\" class=\"data row3 col3\" >1.00</td>\n",
       "                        <td id=\"T_9f79593c_5785_11eb_bf6c_acde48001122row3_col4\" class=\"data row3 col4\" >0.26</td>\n",
       "                        <td id=\"T_9f79593c_5785_11eb_bf6c_acde48001122row3_col5\" class=\"data row3 col5\" >0.09</td>\n",
       "            </tr>\n",
       "            <tr>\n",
       "                        <th id=\"T_9f79593c_5785_11eb_bf6c_acde48001122level0_row4\" class=\"row_heading level0 row4\" >productionDate</th>\n",
       "                        <td id=\"T_9f79593c_5785_11eb_bf6c_acde48001122row4_col0\" class=\"data row4 col0\" >0.21</td>\n",
       "                        <td id=\"T_9f79593c_5785_11eb_bf6c_acde48001122row4_col1\" class=\"data row4 col1\" >-0.78</td>\n",
       "                        <td id=\"T_9f79593c_5785_11eb_bf6c_acde48001122row4_col2\" class=\"data row4 col2\" >0.98</td>\n",
       "                        <td id=\"T_9f79593c_5785_11eb_bf6c_acde48001122row4_col3\" class=\"data row4 col3\" >0.26</td>\n",
       "                        <td id=\"T_9f79593c_5785_11eb_bf6c_acde48001122row4_col4\" class=\"data row4 col4\" >1.00</td>\n",
       "                        <td id=\"T_9f79593c_5785_11eb_bf6c_acde48001122row4_col5\" class=\"data row4 col5\" >0.48</td>\n",
       "            </tr>\n",
       "            <tr>\n",
       "                        <th id=\"T_9f79593c_5785_11eb_bf6c_acde48001122level0_row5\" class=\"row_heading level0 row5\" >price</th>\n",
       "                        <td id=\"T_9f79593c_5785_11eb_bf6c_acde48001122row5_col0\" class=\"data row5 col0\" >0.54</td>\n",
       "                        <td id=\"T_9f79593c_5785_11eb_bf6c_acde48001122row5_col1\" class=\"data row5 col1\" >-0.50</td>\n",
       "                        <td id=\"T_9f79593c_5785_11eb_bf6c_acde48001122row5_col2\" class=\"data row5 col2\" >0.48</td>\n",
       "                        <td id=\"T_9f79593c_5785_11eb_bf6c_acde48001122row5_col3\" class=\"data row5 col3\" >0.09</td>\n",
       "                        <td id=\"T_9f79593c_5785_11eb_bf6c_acde48001122row5_col4\" class=\"data row5 col4\" >0.48</td>\n",
       "                        <td id=\"T_9f79593c_5785_11eb_bf6c_acde48001122row5_col5\" class=\"data row5 col5\" >1.00</td>\n",
       "            </tr>\n",
       "    </tbody></table>"
      ],
      "text/plain": [
       "<pandas.io.formats.style.Styler at 0x7f8922d8f110>"
      ]
     },
     "execution_count": 13,
     "metadata": {},
     "output_type": "execute_result"
    }
   ],
   "source": [
    "# same as above, but more visual\n",
    "corr = train_df[['enginePower', 'mileage', 'modelDate', 'numberOfDoors', 'productionDate', 'price']] \\\n",
    "                .dropna(axis=1) \\\n",
    "                .corr()\n",
    "cmap = sns.diverging_palette(5, 250, as_cmap=True)\n",
    "\n",
    "def magnify():\n",
    "    return [dict(selector=\"th\",\n",
    "                 props=[(\"font-size\", \"7pt\")]),\n",
    "            dict(selector=\"td\",\n",
    "                 props=[('padding', \"1em\")]),\n",
    "            dict(selector=\"th:hover\",\n",
    "                 props=[(\"font-size\", \"12pt\")]),\n",
    "            dict(selector=\"tr:hover td:hover\",\n",
    "                 props=[('max-width', '200px'),\n",
    "                        ('font-size', '12pt')])\n",
    "]\n",
    "\n",
    "corr.style.background_gradient(cmap, axis=1)\\\n",
    "    .set_properties(**{'max-width': '80px', 'font-size': '10pt'})\\\n",
    "    .set_caption(\"Hover to magify\")\\\n",
    "    .set_precision(2)\\\n",
    "    .set_table_styles(magnify())"
   ]
  },
  {
   "cell_type": "code",
   "execution_count": null,
   "metadata": {},
   "outputs": [],
   "source": []
  }
 ],
 "metadata": {
  "kernelspec": {
   "display_name": "Python 3",
   "language": "python",
   "name": "python3"
  },
  "language_info": {
   "codemirror_mode": {
    "name": "ipython",
    "version": 3
   },
   "file_extension": ".py",
   "mimetype": "text/x-python",
   "name": "python",
   "nbconvert_exporter": "python",
   "pygments_lexer": "ipython3",
   "version": "3.7.7"
  }
 },
 "nbformat": 4,
 "nbformat_minor": 4
}
