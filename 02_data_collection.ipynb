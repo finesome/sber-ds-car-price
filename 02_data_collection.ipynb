{
 "cells": [
  {
   "cell_type": "markdown",
   "metadata": {},
   "source": [
    "## 02. Практический кейс. Сбор тренировочных данных."
   ]
  },
  {
   "cell_type": "code",
   "execution_count": 181,
   "metadata": {},
   "outputs": [],
   "source": [
    "import json\n",
    "import multiprocessing\n",
    "import glob\n",
    "import os\n",
    "import numpy as np\n",
    "import pandas as pd\n",
    "import re\n",
    "import requests\n",
    "import cchardet\n",
    "import lxml\n",
    "from bs4 import BeautifulSoup\n",
    "from tqdm import tqdm\n",
    "from pprint import pprint"
   ]
  },
  {
   "cell_type": "code",
   "execution_count": 182,
   "metadata": {},
   "outputs": [],
   "source": [
    "%matplotlib inline\n",
    "pd.set_option('display.max_columns', None)"
   ]
  },
  {
   "cell_type": "markdown",
   "metadata": {},
   "source": [
    "### Начнем сбор данных"
   ]
  },
  {
   "cell_type": "code",
   "execution_count": 184,
   "metadata": {},
   "outputs": [],
   "source": [
    "test_df = pd.read_csv('data/test.csv')"
   ]
  },
  {
   "cell_type": "markdown",
   "metadata": {},
   "source": [
    "#### Список с брендами/моделями\n",
    "\n",
    "Создадим список с парами (бренд, модель) для более удобной итерации в процессе обработки"
   ]
  },
  {
   "cell_type": "code",
   "execution_count": 186,
   "metadata": {},
   "outputs": [
    {
     "name": "stderr",
     "output_type": "stream",
     "text": [
      "100%|██████████| 12/12 [00:00<00:00, 298.68it/s]"
     ]
    },
    {
     "name": "stdout",
     "output_type": "stream",
     "text": [
      "all brands: ['SKODA', 'AUDI', 'HONDA', 'VOLVO', 'BMW', 'NISSAN', 'INFINITI', 'MERCEDES', 'TOYOTA', 'LEXUS', 'VOLKSWAGEN', 'MITSUBISHI']\n"
     ]
    },
    {
     "name": "stderr",
     "output_type": "stream",
     "text": [
      "\n"
     ]
    }
   ],
   "source": [
    "all_brands = list(test_df['brand'].unique())\n",
    "print(f\"all brands: {all_brands}\")\n",
    "\n",
    "# build list with all (brand, model) tuples\n",
    "brands_models_list = list()\n",
    "\n",
    "for brand in tqdm(all_brands):\n",
    "    # select only current brand samples\n",
    "    brand_samples = test_df[test_df['brand'] == brand]\n",
    "    # get all unique model names\n",
    "    brand_models = list(brand_samples['modelName'].unique())\n",
    "    # add entries to list\n",
    "    for model in brand_models:\n",
    "        brands_models_list.append((brand, model))"
   ]
  },
  {
   "cell_type": "markdown",
   "metadata": {},
   "source": [
    "#### Словарь с брендами и их вендорами\n",
    "\n",
    "Создадим словарь, в котором хранится вендор для каждой модели. Так, мы сможем определить вендор, так как он не указан на странице объявления"
   ]
  },
  {
   "cell_type": "code",
   "execution_count": 187,
   "metadata": {},
   "outputs": [
    {
     "name": "stderr",
     "output_type": "stream",
     "text": [
      "100%|██████████| 12/12 [00:00<00:00, 269.77it/s]\n"
     ]
    }
   ],
   "source": [
    "# build dictionary with vendor for each brand\n",
    "brands_vendors_dict = dict()\n",
    "\n",
    "for brand in tqdm(all_brands):\n",
    "    # select current vendor samples\n",
    "    brand_samples = test_df[test_df['brand'] == brand]\n",
    "    # get all unique vendors\n",
    "    brand_vendors = list(brand_samples['vendor'].unique())\n",
    "    # add entry to brands/vendors dictionary\n",
    "    brands_vendors_dict[brand] = brand_vendors[0]\n",
    "    \n",
    "# save to .json file\n",
    "with open('data/brands_vendors_dict.json', 'w') as file:\n",
    "    json.dump(brands_vendors_dict, file)"
   ]
  },
  {
   "cell_type": "markdown",
   "metadata": {},
   "source": [
    "#### Автоматизируем процесс добычи ссылок на объявления\n",
    "\n",
    "Я решил пойти следующим путем: в результатах поиска для определенного бренда/модели мы получаем список с объявлениями. Страниц может быть несколько, а может быть одна. Для определения кол-ва страниц, напишем специальный метод, который находит специфичные теги с указанными классами (определены мною в результате изучения HTML кода страниц) и определяет данным образом кол-во страниц. \n",
    "\n",
    "Затем, мы получаем шапку для каждого объявления ссылку на страницу с деталями.  На данном этапе соберем список из ссылок для каждого бренда/модели авто.\n",
    "\n",
    "Используем для GET запросов библиотеку requests. Затем, обработаем полученный ответ с помощью BeautifulSoup4"
   ]
  },
  {
   "cell_type": "code",
   "execution_count": 6,
   "metadata": {},
   "outputs": [],
   "source": [
    "base_url = 'https://auto.ru/cars'"
   ]
  },
  {
   "cell_type": "code",
   "execution_count": 7,
   "metadata": {},
   "outputs": [],
   "source": [
    "# pagination class\n",
    "pagination_class = 'ListingPagination-module__pages' # span\n",
    "# listing item link class\n",
    "item_link_class = 'ListingItemTitle-module__link' # a"
   ]
  },
  {
   "cell_type": "code",
   "execution_count": 8,
   "metadata": {},
   "outputs": [],
   "source": [
    "def get_pages_number(soup):\n",
    "    # search for pagination element\n",
    "    pagination = soup.find('span', class_=pagination_class)\n",
    "    \n",
    "    # return 1 if pagination element is not found\n",
    "    if pagination is None:\n",
    "        return 1\n",
    "    \n",
    "    # find <a> children, i.e. links\n",
    "    links = pagination.find_all('a')\n",
    "    \n",
    "    # return text of last link (converted to integer)\n",
    "    return int(links[-1].get_text())"
   ]
  },
  {
   "cell_type": "code",
   "execution_count": 9,
   "metadata": {},
   "outputs": [],
   "source": [
    "def get_item_links(soup):\n",
    "    # search for item listing links\n",
    "    item_links = soup.find_all('a', class_=item_link_class)\n",
    "    # extract links only, i.e. href only\n",
    "    item_links = [link['href'] for link in item_links]\n",
    "    \n",
    "    return item_links"
   ]
  },
  {
   "cell_type": "code",
   "execution_count": 14,
   "metadata": {},
   "outputs": [],
   "source": [
    "def parse_one_page(brand, model, page):\n",
    "    # build page query; empty if page is 1 and ?page=n otherwise\n",
    "    page_query = '' if page == 1 else f'/?page={page}'\n",
    "    # build request URL\n",
    "    request_url = f'{base_url}/{brand}/{model}/all{page_query}'\n",
    "    # send GET request\n",
    "    try:\n",
    "        response = requests.get(request_url, timeout=3)\n",
    "    except requests.exceptions.Timeout:\n",
    "        return None\n",
    "    except requests.exceptions.RequestException:\n",
    "        return None\n",
    "        \n",
    "    # set response encoding to UTF-8; removes gibberish characters in response text\n",
    "    response.encoding = 'utf-8'\n",
    "    # parse response text with bs4\n",
    "    soup = BeautifulSoup(response.text, 'lxml')\n",
    "    \n",
    "    return soup"
   ]
  },
  {
   "cell_type": "code",
   "execution_count": 15,
   "metadata": {},
   "outputs": [],
   "source": [
    "def parse_all_item_links(brands_models_list):\n",
    "    # iterate through (brand, model) tuples\n",
    "    for (brand, model) in tqdm(brands_models_list):\n",
    "        # transform to lowercase\n",
    "        brand = brand.lower()\n",
    "        model = model.lower()\n",
    "        print(f\"brand: {brand}, model: {model}\")\n",
    "        \n",
    "        # create directory for brand\n",
    "        os.makedirs(os.path.join('data', 'links', brand), exist_ok=True)\n",
    "        # build path for JSON file\n",
    "        json_path = os.path.join('data', 'links', brand, f'{model}.json')\n",
    "        \n",
    "        if os.path.exists(json_path):\n",
    "            print(\"skipping...\")\n",
    "            continue\n",
    "        \n",
    "        # build list of links for current model\n",
    "        model_links_list = list()\n",
    "        \n",
    "        # parse first page\n",
    "        first_page_soup = parse_one_page(brand, model, 1)\n",
    "        if first_page_soup is None:\n",
    "            print(\"\\tskipping page 1 due to connection timeout/error\")\n",
    "            continue\n",
    "        # get number of pages\n",
    "        pages_number = get_pages_number(first_page_soup)\n",
    "        # add links from first page\n",
    "        model_links_list.extend(get_item_links(first_page_soup))\n",
    "        print(f\"\\tprocessed page 1/{pages_number} ({len(model_links_list)} items)\")\n",
    "        \n",
    "        # continue if more than 1 page\n",
    "        if pages_number > 1:\n",
    "            for i in range(2, pages_number + 1):\n",
    "                page_soup = parse_one_page(brand, model, i)\n",
    "                if page_soup is None:\n",
    "                    print(f\"\\tskipping page {i} due to connection timeout/error\")\n",
    "                    continue\n",
    "                # add links from page\n",
    "                model_links_list.extend(get_item_links(page_soup))\n",
    "                print(f\"\\tprocessed page {i}/{pages_number} ({len(model_links_list)} items)\")\n",
    "            \n",
    "        # just in case: save list to JSON on each iteration\n",
    "        with open(json_path, 'w') as file:\n",
    "            json.dump(model_links_list, file)"
   ]
  },
  {
   "cell_type": "code",
   "execution_count": null,
   "metadata": {},
   "outputs": [],
   "source": [
    "parse_all_item_links(brands_models_list)"
   ]
  },
  {
   "cell_type": "markdown",
   "metadata": {},
   "source": [
    "#### Посчитаем сколько мы собрали объявлений"
   ]
  },
  {
   "cell_type": "code",
   "execution_count": 302,
   "metadata": {},
   "outputs": [],
   "source": [
    "total_links = 0\n",
    "links_by_brand = dict()\n",
    "links_by_brand_model = dict()\n",
    "\n",
    "# iterate through all .json files\n",
    "for model_path in glob.glob(os.path.join('data', 'links', '*', '*.json')):\n",
    "    # infer brand and model from path\n",
    "    brand = os.path.basename(os.path.dirname(model_path))\n",
    "    model = os.path.basename(model_path)[:-5]\n",
    "    \n",
    "    # open .json file\n",
    "    with open(model_path, 'r') as file:\n",
    "        json_file = json.load(file)\n",
    "        \n",
    "    # count number of items in array\n",
    "    num_links = len(json_file)\n",
    "    \n",
    "    # 1) add up to total number of items\n",
    "    total_links += num_links\n",
    "    \n",
    "    # 2) add up to number of items by brand\n",
    "    if brand in links_by_brand:\n",
    "        links_by_brand[brand] += num_links\n",
    "    else:\n",
    "        links_by_brand[brand] = num_links\n",
    "        \n",
    "    # 3) add up to number of items by brand/model\n",
    "    if brand in links_by_brand_model:\n",
    "        # add up to number of model items\n",
    "        links_by_brand_model[brand][model] = num_links\n",
    "    else:\n",
    "        links_by_brand_model[brand] = dict()\n",
    "        links_by_brand_model[brand][model] = num_links"
   ]
  },
  {
   "cell_type": "code",
   "execution_count": 303,
   "metadata": {},
   "outputs": [
    {
     "name": "stdout",
     "output_type": "stream",
     "text": [
      "total number of links collected: 145099\n",
      "number of links by brand\n",
      "{'AUDI': 10677,\n",
      " 'BMW': 15337,\n",
      " 'HONDA': 5804,\n",
      " 'INFINITI': 1909,\n",
      " 'LEXUS': 3381,\n",
      " 'MERCEDES': 20726,\n",
      " 'MITSUBISHI': 11909,\n",
      " 'NISSAN': 20596,\n",
      " 'SKODA': 9158,\n",
      " 'TOYOTA': 23596,\n",
      " 'VOLKSWAGEN': 18591,\n",
      " 'VOLVO': 3415}\n"
     ]
    }
   ],
   "source": [
    "print(f\"total number of links collected: {total_links}\")\n",
    "print(\"number of links by brand\")\n",
    "pprint(links_by_brand)\n",
    "# pprint(links_by_brand_model)\n",
    "\n",
    "# save both dictionaries\n",
    "with open('data/links_by_brand.json', 'w') as file:\n",
    "    json.dump(links_by_brand, file)\n",
    "with open('data/links_by_brand_model.json', 'w') as file:\n",
    "    json.dump(links_by_brand_model, file)"
   ]
  },
  {
   "cell_type": "markdown",
   "metadata": {},
   "source": [
    "#### Достаем данные об автомобиле из объявления\n",
    "\n",
    "Теперь раз мы имеем ссылки на объявления, нужно будет доставать информацию об автомобиле. Для этого, изучим страницы объявления и найдем нужные HTML элементы и их соответсвующие классы. Надо еще учесть, что при запросах могут возникать ошибки (объявление удалено или ссылка неправильная/недействительна). \n",
    "\n",
    "Затем, снова запустим этот процесс на нескольких девайсах (желательно) и соберем данные в .csv файл"
   ]
  },
  {
   "cell_type": "code",
   "execution_count": 279,
   "metadata": {},
   "outputs": [],
   "source": [
    "car_url = 'https://auto.ru/cars/used/sale/volkswagen/touareg/1101820126-ed5d7941/'"
   ]
  },
  {
   "cell_type": "code",
   "execution_count": 280,
   "metadata": {},
   "outputs": [],
   "source": [
    "\"\"\"\n",
    "Simple builder of atribute HTML class\n",
    "\"\"\"\n",
    "def get_atribute_classname(atribute):\n",
    "    return f'CardInfoRow_{atribute}'"
   ]
  },
  {
   "cell_type": "code",
   "execution_count": 281,
   "metadata": {},
   "outputs": [],
   "source": [
    "\"\"\"\n",
    "Convert string into integer\n",
    "\"\"\"\n",
    "def convert_string_to_int(s):\n",
    "    value = ''.join([c for c in s if c.isdigit()])\n",
    "    return int(value)"
   ]
  },
  {
   "cell_type": "code",
   "execution_count": 282,
   "metadata": {},
   "outputs": [],
   "source": [
    "\"\"\"\n",
    "Splits engine information string into three atributes\n",
    "\"\"\"\n",
    "def get_engine_characteristics(engine_atributes):\n",
    "    # split string by /\n",
    "    splitted = engine_atributes.split('/')\n",
    "    # extract each engine characteristic\n",
    "    engine_volume = splitted[0].split()[0]\n",
    "    engine_power = ''.join([c for c in splitted[1].split()[0] if c.isdigit()])\n",
    "    fuel_type = splitted[2].strip().lower()\n",
    "    \n",
    "    return float(engine_volume), float(int(engine_power)), fuel_type"
   ]
  },
  {
   "cell_type": "code",
   "execution_count": 283,
   "metadata": {},
   "outputs": [],
   "source": [
    "\"\"\"\n",
    "Retrieve page and parse using lxml parser\n",
    "\"\"\"\n",
    "def get_car_page(car_url, timeout=3):\n",
    "    try:\n",
    "        response = requests.get(car_url, timeout=timeout)\n",
    "    except requests.exceptions.RequestException:\n",
    "        return None\n",
    "    \n",
    "    # check response status code\n",
    "    if response.status_code != 200:\n",
    "        return None\n",
    "    \n",
    "    # set response encoding to UTF-8; removes gibberish characters in response text\n",
    "    response.encoding = 'utf-8'\n",
    "    # parse response text with bs4\n",
    "    soup = BeautifulSoup(response.text, 'lxml')\n",
    "    \n",
    "    return soup"
   ]
  },
  {
   "cell_type": "code",
   "execution_count": 284,
   "metadata": {},
   "outputs": [],
   "source": [
    "body_type_atribute = 'bodytype'\n",
    "color_atribute = 'color'\n",
    "engine_atribute = 'engine' # 3.0 л / 249 л.с. / Дизель\n",
    "mileage_atribute = 'kmAge'\n",
    "year_atribute = 'year'\n",
    "transmission_atribute = 'transmission'\n",
    "owners_count_atribute = 'ownersCount'\n",
    "pts_atribute = 'pts'\n",
    "drive_atribute = 'drive'\n",
    "wheel_atribute = 'wheel'\n",
    "# price element classname\n",
    "price_classname = 'OfferPriceCaption__price' # span\n",
    "\n",
    "# extra\n",
    "# condition_atribute = 'state'\n",
    "# owning_time_atribute = 'owningTime'\n",
    "# customs_atribute = 'customs'"
   ]
  },
  {
   "cell_type": "code",
   "execution_count": 285,
   "metadata": {},
   "outputs": [],
   "source": [
    "all_atributes = [body_type_atribute, color_atribute, engine_atribute, mileage_atribute, year_atribute, \n",
    "                transmission_atribute, owners_count_atribute, pts_atribute, drive_atribute, wheel_atribute]"
   ]
  },
  {
   "cell_type": "code",
   "execution_count": 286,
   "metadata": {},
   "outputs": [],
   "source": [
    "atribute_to_feature_mapping = {\n",
    "    'bodytype': 'bodyType',\n",
    "    'kmAge': 'mileage',\n",
    "    'transmission': 'vehicleTransmission',\n",
    "    'ownersCount': 'Владельцы',\n",
    "    'pts': 'ПТС',\n",
    "    'drive': 'Привод',\n",
    "    'wheel': 'Руль'\n",
    "}"
   ]
  },
  {
   "cell_type": "code",
   "execution_count": 287,
   "metadata": {},
   "outputs": [],
   "source": [
    "\"\"\"\n",
    "Combine previous functions and extract atribute values\n",
    "\"\"\"\n",
    "def get_car_info(car_url, brand, model, vendor):\n",
    "    # retrieve and parse car page\n",
    "    car_page = get_car_page(car_url)\n",
    "    # build car info dictionary\n",
    "    info_dict = dict()\n",
    "    info_dict['brand'] = brand\n",
    "    info_dict['model_name'] = model\n",
    "    info_dict['vendor'] = vendor\n",
    "    \n",
    "    # extract price\n",
    "    price_element = car_page.find('span', class_=price_classname)\n",
    "    # add price to dictionary\n",
    "    info_dict['price'] = convert_string_to_int(price_element.get_text())\n",
    "    \n",
    "    # extract atributes\n",
    "    for atribute in all_atributes:\n",
    "        # find atribute element\n",
    "        atribute_element = car_page.find('li', class_=get_atribute_classname(atribute))\n",
    "        \n",
    "        if atribute_element:\n",
    "            # get its <span> children (one has atribute name and other has value)\n",
    "            atribute_element_span_children = atribute_element.find_all('span')\n",
    "            # extract atribute value\n",
    "            atribute_value = atribute_element_span_children[-1].get_text().replace('\\xa0', ' ')\n",
    "            \n",
    "            # split engine characteristics\n",
    "            if atribute == engine_atribute:\n",
    "                engine_volume, engine_power, fuel_type = get_engine_characteristics(atribute_value)\n",
    "                info_dict['engineDisplacement'] = engine_volume\n",
    "                info_dict['enginePower'] = engine_power\n",
    "                info_dict['fuelType'] = fuel_type\n",
    "                continue\n",
    "                \n",
    "            # modify mileage value\n",
    "            if atribute == mileage_atribute:\n",
    "                atribute_value = convert_string_to_int(atribute_value)\n",
    "            \n",
    "            # update car info dictionary\n",
    "            if atribute in atribute_to_feature_mapping.keys():\n",
    "                info_dict[atribute_to_feature_mapping[atribute]] = atribute_value\n",
    "            else:\n",
    "                info_dict[atribute] = atribute_value\n",
    "        \n",
    "    return info_dict"
   ]
  },
  {
   "cell_type": "code",
   "execution_count": 288,
   "metadata": {},
   "outputs": [
    {
     "data": {
      "text/plain": [
       "{'brand': 'VOLKSWAGEN',\n",
       " 'model_name': 'TOUAREG',\n",
       " 'vendor': 'EUROPEAN',\n",
       " 'price': 4270000,\n",
       " 'bodyType': 'внедорожник 5 дв.',\n",
       " 'color': 'чёрный',\n",
       " 'engineDisplacement': 3.0,\n",
       " 'enginePower': 249.0,\n",
       " 'fuelType': 'дизель',\n",
       " 'mileage': 22449,\n",
       " 'year': '2018',\n",
       " 'vehicleTransmission': 'автоматическая',\n",
       " 'Владельцы': '1 владелец',\n",
       " 'ПТС': 'Оригинал',\n",
       " 'Привод': 'полный',\n",
       " 'Руль': 'Левый'}"
      ]
     },
     "execution_count": 288,
     "metadata": {},
     "output_type": "execute_result"
    }
   ],
   "source": [
    "get_car_info(car_url, 'VOLKSWAGEN', 'TOUAREG', brands_vendors_dict['VOLKSWAGEN'])"
   ]
  },
  {
   "cell_type": "markdown",
   "metadata": {},
   "source": [
    "#### Дополнительно: достаем данные о характеристике модели из каталога auto.ru"
   ]
  },
  {
   "cell_type": "code",
   "execution_count": 55,
   "metadata": {},
   "outputs": [],
   "source": [
    "response = requests.get(\"https://auto.ru/catalog/cars/bmw/x4/21203948/21204042/specifications/21204042_21485476_21204195/\")\n",
    "response.encoding = 'utf-8'\n",
    "soup = BeautifulSoup(response.text, 'html.parser')"
   ]
  },
  {
   "cell_type": "code",
   "execution_count": 57,
   "metadata": {},
   "outputs": [],
   "source": [
    "element = soup.find('dt', class_='list-values__label', string='Количество дверей')"
   ]
  },
  {
   "cell_type": "code",
   "execution_count": 61,
   "metadata": {},
   "outputs": [
    {
     "data": {
      "text/plain": [
       "<dd class=\"list-values__value\">5</dd>"
      ]
     },
     "execution_count": 61,
     "metadata": {},
     "output_type": "execute_result"
    }
   ],
   "source": [
    "element.find_next_sibling('dd')"
   ]
  },
  {
   "cell_type": "code",
   "execution_count": 35,
   "metadata": {},
   "outputs": [
    {
     "data": {
      "text/plain": [
       "[]"
      ]
     },
     "execution_count": 35,
     "metadata": {},
     "output_type": "execute_result"
    }
   ],
   "source": [
    "soup.find_all('dt', string='Количество дверей')"
   ]
  },
  {
   "cell_type": "markdown",
   "metadata": {},
   "source": [
    "### Собираем все воедино"
   ]
  },
  {
   "cell_type": "markdown",
   "metadata": {},
   "source": [
    "#### Важное обновление признаков\n",
    "\n",
    "Я решил избавиться от признаков numberOfDoors и productionDate в силу того, что их сложно достать для тренировочных данных. numberOfDoors необходимо доставать из каталога, что в принципе возможно, но пока отложим в сторону."
   ]
  },
  {
   "cell_type": "markdown",
   "metadata": {},
   "source": [
    "#### Собираем датафрейм из JSON файлов"
   ]
  },
  {
   "cell_type": "code",
   "execution_count": 6,
   "metadata": {},
   "outputs": [],
   "source": [
    "def fill_df_entry(car):\n",
    "    car_info = dict()\n",
    "    \n",
    "    for col in REQUIRED_COLUMNS:\n",
    "        if col in car:\n",
    "            car_info[col] = car[col]\n",
    "        else:\n",
    "            car_info[col] = np.nan\n",
    "            \n",
    "    return car_info"
   ]
  },
  {
   "cell_type": "code",
   "execution_count": 7,
   "metadata": {},
   "outputs": [],
   "source": [
    "# list of columns which should be present in each car listing\n",
    "REQUIRED_COLUMNS = ['car_url', 'brand', 'model_name', 'vendor', 'price', 'bodyType', 'color', 'engineDisplacement',\n",
    "                   'enginePower', 'fuelType', 'mileage', 'year', 'vehicleTransmission', 'Владельцы', 'ПТС',\n",
    "                   'Привод', 'Руль']"
   ]
  },
  {
   "cell_type": "code",
   "execution_count": 12,
   "metadata": {},
   "outputs": [],
   "source": [
    "def create_df_for_brand(brand):\n",
    "    # create dataframe\n",
    "    df = pd.DataFrame(columns=REQUIRED_COLUMNS)\n",
    "    # get list of .json file paths\n",
    "    model_paths = glob.glob(os.path.join('data/cars', brand, '*.json'))\n",
    "    \n",
    "    # iterate through each model .json file\n",
    "    for model_path in model_paths:\n",
    "        # open .json file with list of car listings of current model\n",
    "        with open(model_path, 'r') as file:\n",
    "            cars_list = json.load(file)\n",
    "\n",
    "        # iterate through each car listing\n",
    "        for car in cars_list:\n",
    "            # append car info to dataframe\n",
    "            df = df.append(fill_df_entry(car), ignore_index=True)\n",
    "            \n",
    "    # save dataframe\n",
    "    df.to_csv(f'data/dataframes/{brand}.csv', index=None)"
   ]
  },
  {
   "cell_type": "code",
   "execution_count": 17,
   "metadata": {},
   "outputs": [
    {
     "name": "stdout",
     "output_type": "stream",
     "text": [
      "started process for SKODA\n",
      "started process for AUDI\n",
      "started process for HONDA\n",
      "started process for VOLVO\n",
      "started process for BMW\n",
      "started process for NISSAN\n",
      "started process for INFINITI\n",
      "started process for MERCEDES\n",
      "started process for TOYOTA\n",
      "started process for LEXUS\n",
      "started process for VOLKSWAGEN\n",
      "started process for MITSUBISHI\n"
     ]
    }
   ],
   "source": [
    "# let's use multiprocessing features\n",
    "# start 12 processes with each one running above function\n",
    "for brand in all_brands:\n",
    "    p = multiprocessing.Process(target=create_df_for_brand, args=(brand,))\n",
    "    p.start()\n",
    "    print(f\"started process for {brand}\")"
   ]
  },
  {
   "cell_type": "code",
   "execution_count": 8,
   "metadata": {},
   "outputs": [],
   "source": [
    "# create dataframe\n",
    "df = pd.DataFrame(columns=REQUIRED_COLUMNS)\n",
    "\n",
    "for brand in all_brands:\n",
    "    # open brand .csv file\n",
    "    brand_df = pd.read_csv(f'data/dataframes/{brand}.csv')\n",
    "    # append to main dataframe\n",
    "    df = df.append(brand_df)\n",
    "    \n",
    "    # save dataframe\n",
    "    df.to_csv(f'data/train_combined.csv', index=None)"
   ]
  },
  {
   "cell_type": "markdown",
   "metadata": {},
   "source": [
    "### Почистим собранные данные"
   ]
  },
  {
   "cell_type": "code",
   "execution_count": 170,
   "metadata": {},
   "outputs": [],
   "source": [
    "train_df = pd.read_csv('data/train_combined.csv')"
   ]
  },
  {
   "cell_type": "markdown",
   "metadata": {},
   "source": [
    "#### Удаляем строки с пустыми значениями"
   ]
  },
  {
   "cell_type": "code",
   "execution_count": 171,
   "metadata": {},
   "outputs": [],
   "source": [
    "# drop rows with missing values\n",
    "train_df = train_df.dropna()"
   ]
  },
  {
   "cell_type": "markdown",
   "metadata": {},
   "source": [
    "#### Удаляем повторяющиеся значения"
   ]
  },
  {
   "cell_type": "code",
   "execution_count": 172,
   "metadata": {},
   "outputs": [],
   "source": [
    "# drop duplicates\n",
    "train_df = train_df.drop_duplicates()"
   ]
  },
  {
   "cell_type": "markdown",
   "metadata": {},
   "source": [
    "#### bodyType\n",
    "\n",
    "Удалим автомобили с типом кузова, которого нет в тестовых данных"
   ]
  },
  {
   "cell_type": "code",
   "execution_count": 173,
   "metadata": {},
   "outputs": [],
   "source": [
    "train_body_types = list(train_df['bodyType'].unique())\n",
    "test_body_types = list(test_df['bodyType'].unique())\n",
    "\n",
    "not_matched_body_types = []\n",
    "for body_type in train_body_types:\n",
    "    if body_type not in test_body_types:\n",
    "        not_matched_body_types.append(body_type)"
   ]
  },
  {
   "cell_type": "code",
   "execution_count": 174,
   "metadata": {},
   "outputs": [],
   "source": [
    "train_df = train_df[~train_df['bodyType'].isin(not_matched_body_types)]"
   ]
  },
  {
   "cell_type": "markdown",
   "metadata": {},
   "source": [
    "#### engineDisplacement\n",
    "\n",
    "У некоторых авто объем двигателя гораздо больше других. Это автомобили с электродвигателем, поэтому поставим значение engineDisplacement на 0.0"
   ]
  },
  {
   "cell_type": "code",
   "execution_count": 175,
   "metadata": {},
   "outputs": [],
   "source": [
    "train_df.loc[(train_df['engineDisplacement'] > 7.0), 'engineDisplacement'] = 0.0"
   ]
  },
  {
   "cell_type": "markdown",
   "metadata": {},
   "source": [
    "#### fuelType"
   ]
  },
  {
   "cell_type": "code",
   "execution_count": 176,
   "metadata": {},
   "outputs": [],
   "source": [
    "# get test dataframe fuel types\n",
    "fuel_types = list(test_df['fuelType'].unique())\n",
    "# leave only rows with one of fuel types from list above\n",
    "train_df = train_df[train_df['fuelType'].isin(fuel_types)]"
   ]
  },
  {
   "cell_type": "markdown",
   "metadata": {},
   "source": [
    "#### productionDate и mileage\n",
    "\n",
    "Нужно поменять признак year на productionDate, а также перевести его из float в int. Также перевести mileage в int"
   ]
  },
  {
   "cell_type": "code",
   "execution_count": 177,
   "metadata": {},
   "outputs": [],
   "source": [
    "# rename 'year' to 'productionDate'\n",
    "train_df.rename(columns={'year': 'productionDate'}, inplace=True)\n",
    "# convert float to integer\n",
    "train_df.loc[:, 'productionDate'] = train_df['productionDate'].astype('int')\n",
    "train_df.loc[:, 'mileage'] = train_df['mileage'].astype('int')"
   ]
  },
  {
   "cell_type": "markdown",
   "metadata": {},
   "source": [
    "#### Приводим к общим колонкам"
   ]
  },
  {
   "cell_type": "code",
   "execution_count": 178,
   "metadata": {},
   "outputs": [],
   "source": [
    "columns = list(test_df.columns)\n",
    "columns.remove('modelDate')\n",
    "columns.remove('numberOfDoors')\n",
    "columns.remove('sell_id')\n",
    "# columns.append('car_url')\n",
    "columns.append('price')"
   ]
  },
  {
   "cell_type": "code",
   "execution_count": 179,
   "metadata": {},
   "outputs": [],
   "source": [
    "train_df = train_df[columns]"
   ]
  },
  {
   "cell_type": "code",
   "execution_count": 180,
   "metadata": {},
   "outputs": [],
   "source": [
    "# save .csv file\n",
    "train_df.to_csv('data/train.csv', index=None)"
   ]
  },
  {
   "cell_type": "markdown",
   "metadata": {},
   "source": [
    "### Используем найденные на Kaggle данные для тренировки"
   ]
  },
  {
   "cell_type": "code",
   "execution_count": 163,
   "metadata": {},
   "outputs": [],
   "source": [
    "# load train and test data\n",
    "test_df = pd.read_csv('data/test_modified.csv')\n",
    "all_auto_ru_09_09_2020 = pd.read_csv('data/all_auto_ru_09_09_2020.csv')"
   ]
  },
  {
   "cell_type": "code",
   "execution_count": 164,
   "metadata": {},
   "outputs": [
    {
     "data": {
      "text/html": [
       "<div>\n",
       "<style scoped>\n",
       "    .dataframe tbody tr th:only-of-type {\n",
       "        vertical-align: middle;\n",
       "    }\n",
       "\n",
       "    .dataframe tbody tr th {\n",
       "        vertical-align: top;\n",
       "    }\n",
       "\n",
       "    .dataframe thead th {\n",
       "        text-align: right;\n",
       "    }\n",
       "</style>\n",
       "<table border=\"1\" class=\"dataframe\">\n",
       "  <thead>\n",
       "    <tr style=\"text-align: right;\">\n",
       "      <th></th>\n",
       "      <th>bodyType</th>\n",
       "      <th>brand</th>\n",
       "      <th>color</th>\n",
       "      <th>engineDisplacement</th>\n",
       "      <th>enginePower</th>\n",
       "      <th>fuelType</th>\n",
       "      <th>mileage</th>\n",
       "      <th>modelDate</th>\n",
       "      <th>model_name</th>\n",
       "      <th>numberOfDoors</th>\n",
       "      <th>productionDate</th>\n",
       "      <th>sell_id</th>\n",
       "      <th>vehicleTransmission</th>\n",
       "      <th>vendor</th>\n",
       "      <th>Владельцы</th>\n",
       "      <th>ПТС</th>\n",
       "      <th>Привод</th>\n",
       "      <th>Руль</th>\n",
       "    </tr>\n",
       "  </thead>\n",
       "  <tbody>\n",
       "    <tr>\n",
       "      <th>0</th>\n",
       "      <td>лифтбек</td>\n",
       "      <td>SKODA</td>\n",
       "      <td>синий</td>\n",
       "      <td>1.2</td>\n",
       "      <td>105.0</td>\n",
       "      <td>бензин</td>\n",
       "      <td>74000</td>\n",
       "      <td>2013</td>\n",
       "      <td>OCTAVIA</td>\n",
       "      <td>5</td>\n",
       "      <td>2014</td>\n",
       "      <td>1100575026</td>\n",
       "      <td>роботизированная</td>\n",
       "      <td>EUROPEAN</td>\n",
       "      <td>3 или более</td>\n",
       "      <td>Оригинал</td>\n",
       "      <td>передний</td>\n",
       "      <td>Левый</td>\n",
       "    </tr>\n",
       "    <tr>\n",
       "      <th>1</th>\n",
       "      <td>лифтбек</td>\n",
       "      <td>SKODA</td>\n",
       "      <td>чёрный</td>\n",
       "      <td>1.6</td>\n",
       "      <td>110.0</td>\n",
       "      <td>бензин</td>\n",
       "      <td>60563</td>\n",
       "      <td>2017</td>\n",
       "      <td>OCTAVIA</td>\n",
       "      <td>5</td>\n",
       "      <td>2017</td>\n",
       "      <td>1100549428</td>\n",
       "      <td>механическая</td>\n",
       "      <td>EUROPEAN</td>\n",
       "      <td>1 владелец</td>\n",
       "      <td>Оригинал</td>\n",
       "      <td>передний</td>\n",
       "      <td>Левый</td>\n",
       "    </tr>\n",
       "    <tr>\n",
       "      <th>2</th>\n",
       "      <td>лифтбек</td>\n",
       "      <td>SKODA</td>\n",
       "      <td>серый</td>\n",
       "      <td>1.8</td>\n",
       "      <td>152.0</td>\n",
       "      <td>бензин</td>\n",
       "      <td>88000</td>\n",
       "      <td>2013</td>\n",
       "      <td>SUPERB</td>\n",
       "      <td>5</td>\n",
       "      <td>2014</td>\n",
       "      <td>1100658222</td>\n",
       "      <td>роботизированная</td>\n",
       "      <td>EUROPEAN</td>\n",
       "      <td>1 владелец</td>\n",
       "      <td>Оригинал</td>\n",
       "      <td>передний</td>\n",
       "      <td>Левый</td>\n",
       "    </tr>\n",
       "    <tr>\n",
       "      <th>3</th>\n",
       "      <td>лифтбек</td>\n",
       "      <td>SKODA</td>\n",
       "      <td>коричневый</td>\n",
       "      <td>1.6</td>\n",
       "      <td>110.0</td>\n",
       "      <td>бензин</td>\n",
       "      <td>95000</td>\n",
       "      <td>2013</td>\n",
       "      <td>OCTAVIA</td>\n",
       "      <td>5</td>\n",
       "      <td>2014</td>\n",
       "      <td>1100937408</td>\n",
       "      <td>автоматическая</td>\n",
       "      <td>EUROPEAN</td>\n",
       "      <td>1 владелец</td>\n",
       "      <td>Оригинал</td>\n",
       "      <td>передний</td>\n",
       "      <td>Левый</td>\n",
       "    </tr>\n",
       "    <tr>\n",
       "      <th>4</th>\n",
       "      <td>лифтбек</td>\n",
       "      <td>SKODA</td>\n",
       "      <td>белый</td>\n",
       "      <td>1.8</td>\n",
       "      <td>152.0</td>\n",
       "      <td>бензин</td>\n",
       "      <td>58536</td>\n",
       "      <td>2008</td>\n",
       "      <td>OCTAVIA</td>\n",
       "      <td>5</td>\n",
       "      <td>2012</td>\n",
       "      <td>1101037972</td>\n",
       "      <td>автоматическая</td>\n",
       "      <td>EUROPEAN</td>\n",
       "      <td>1 владелец</td>\n",
       "      <td>Оригинал</td>\n",
       "      <td>передний</td>\n",
       "      <td>Левый</td>\n",
       "    </tr>\n",
       "  </tbody>\n",
       "</table>\n",
       "</div>"
      ],
      "text/plain": [
       "  bodyType  brand       color  engineDisplacement  enginePower fuelType  \\\n",
       "0  лифтбек  SKODA       синий                 1.2        105.0   бензин   \n",
       "1  лифтбек  SKODA      чёрный                 1.6        110.0   бензин   \n",
       "2  лифтбек  SKODA       серый                 1.8        152.0   бензин   \n",
       "3  лифтбек  SKODA  коричневый                 1.6        110.0   бензин   \n",
       "4  лифтбек  SKODA       белый                 1.8        152.0   бензин   \n",
       "\n",
       "   mileage  modelDate model_name  numberOfDoors  productionDate     sell_id  \\\n",
       "0    74000       2013    OCTAVIA              5            2014  1100575026   \n",
       "1    60563       2017    OCTAVIA              5            2017  1100549428   \n",
       "2    88000       2013     SUPERB              5            2014  1100658222   \n",
       "3    95000       2013    OCTAVIA              5            2014  1100937408   \n",
       "4    58536       2008    OCTAVIA              5            2012  1101037972   \n",
       "\n",
       "  vehicleTransmission    vendor    Владельцы       ПТС    Привод   Руль  \n",
       "0    роботизированная  EUROPEAN  3 или более  Оригинал  передний  Левый  \n",
       "1        механическая  EUROPEAN   1 владелец  Оригинал  передний  Левый  \n",
       "2    роботизированная  EUROPEAN   1 владелец  Оригинал  передний  Левый  \n",
       "3      автоматическая  EUROPEAN   1 владелец  Оригинал  передний  Левый  \n",
       "4      автоматическая  EUROPEAN   1 владелец  Оригинал  передний  Левый  "
      ]
     },
     "metadata": {},
     "output_type": "display_data"
    },
    {
     "data": {
      "text/html": [
       "<div>\n",
       "<style scoped>\n",
       "    .dataframe tbody tr th:only-of-type {\n",
       "        vertical-align: middle;\n",
       "    }\n",
       "\n",
       "    .dataframe tbody tr th {\n",
       "        vertical-align: top;\n",
       "    }\n",
       "\n",
       "    .dataframe thead th {\n",
       "        text-align: right;\n",
       "    }\n",
       "</style>\n",
       "<table border=\"1\" class=\"dataframe\">\n",
       "  <thead>\n",
       "    <tr style=\"text-align: right;\">\n",
       "      <th></th>\n",
       "      <th>bodyType</th>\n",
       "      <th>brand</th>\n",
       "      <th>color</th>\n",
       "      <th>fuelType</th>\n",
       "      <th>modelDate</th>\n",
       "      <th>name</th>\n",
       "      <th>numberOfDoors</th>\n",
       "      <th>productionDate</th>\n",
       "      <th>vehicleConfiguration</th>\n",
       "      <th>vehicleTransmission</th>\n",
       "      <th>engineDisplacement</th>\n",
       "      <th>enginePower</th>\n",
       "      <th>description</th>\n",
       "      <th>mileage</th>\n",
       "      <th>Комплектация</th>\n",
       "      <th>Привод</th>\n",
       "      <th>Руль</th>\n",
       "      <th>Состояние</th>\n",
       "      <th>Владельцы</th>\n",
       "      <th>ПТС</th>\n",
       "      <th>Таможня</th>\n",
       "      <th>Владение</th>\n",
       "      <th>price</th>\n",
       "      <th>start_date</th>\n",
       "      <th>hidden</th>\n",
       "      <th>model</th>\n",
       "    </tr>\n",
       "  </thead>\n",
       "  <tbody>\n",
       "    <tr>\n",
       "      <th>0</th>\n",
       "      <td>Седан</td>\n",
       "      <td>AUDI</td>\n",
       "      <td>040001</td>\n",
       "      <td>бензин</td>\n",
       "      <td>1990.0</td>\n",
       "      <td>2.8 MT (174 л.с.) 4WD</td>\n",
       "      <td>4.0</td>\n",
       "      <td>1991</td>\n",
       "      <td>SEDAN MECHANICAL 2.8</td>\n",
       "      <td>MECHANICAL</td>\n",
       "      <td>2.8</td>\n",
       "      <td>174.0</td>\n",
       "      <td>Машина  в приличном состоянии ,не гнилая не р...</td>\n",
       "      <td>350000</td>\n",
       "      <td>{'id': '0'}</td>\n",
       "      <td>полный</td>\n",
       "      <td>LEFT</td>\n",
       "      <td>NaN</td>\n",
       "      <td>3.0</td>\n",
       "      <td>ORIGINAL</td>\n",
       "      <td>True</td>\n",
       "      <td>NaN</td>\n",
       "      <td>200000.0</td>\n",
       "      <td>2019-10-03T08:09:11Z</td>\n",
       "      <td>NaN</td>\n",
       "      <td>100</td>\n",
       "    </tr>\n",
       "    <tr>\n",
       "      <th>1</th>\n",
       "      <td>Седан</td>\n",
       "      <td>AUDI</td>\n",
       "      <td>EE1D19</td>\n",
       "      <td>бензин</td>\n",
       "      <td>1982.0</td>\n",
       "      <td>1.8 MT (90 л.с.)</td>\n",
       "      <td>4.0</td>\n",
       "      <td>1986</td>\n",
       "      <td>SEDAN MECHANICAL 1.8</td>\n",
       "      <td>MECHANICAL</td>\n",
       "      <td>1.8</td>\n",
       "      <td>90.0</td>\n",
       "      <td>Машина в оригинале не гнилая все вопросы по те...</td>\n",
       "      <td>173424</td>\n",
       "      <td>{'id': '0'}</td>\n",
       "      <td>передний</td>\n",
       "      <td>LEFT</td>\n",
       "      <td>NaN</td>\n",
       "      <td>3.0</td>\n",
       "      <td>ORIGINAL</td>\n",
       "      <td>True</td>\n",
       "      <td>NaN</td>\n",
       "      <td>60000.0</td>\n",
       "      <td>2020-09-06T06:49:40Z</td>\n",
       "      <td>NaN</td>\n",
       "      <td>100</td>\n",
       "    </tr>\n",
       "    <tr>\n",
       "      <th>2</th>\n",
       "      <td>Универсал 5 дв.</td>\n",
       "      <td>AUDI</td>\n",
       "      <td>0000CC</td>\n",
       "      <td>бензин</td>\n",
       "      <td>1988.0</td>\n",
       "      <td>2.3 MT (136 л.с.) 4WD</td>\n",
       "      <td>5.0</td>\n",
       "      <td>1989</td>\n",
       "      <td>WAGON_5_DOORS MECHANICAL 2.3</td>\n",
       "      <td>MECHANICAL</td>\n",
       "      <td>2.3</td>\n",
       "      <td>136.0</td>\n",
       "      <td>ПТС Оригинал!\\nПолный комплект ключей!\\nПо рез...</td>\n",
       "      <td>230000</td>\n",
       "      <td>{'id': '0'}</td>\n",
       "      <td>полный</td>\n",
       "      <td>LEFT</td>\n",
       "      <td>NaN</td>\n",
       "      <td>3.0</td>\n",
       "      <td>ORIGINAL</td>\n",
       "      <td>True</td>\n",
       "      <td>NaN</td>\n",
       "      <td>99000.0</td>\n",
       "      <td>2020-09-02T14:04:21Z</td>\n",
       "      <td>NaN</td>\n",
       "      <td>100</td>\n",
       "    </tr>\n",
       "    <tr>\n",
       "      <th>3</th>\n",
       "      <td>Седан</td>\n",
       "      <td>AUDI</td>\n",
       "      <td>CACECB</td>\n",
       "      <td>бензин</td>\n",
       "      <td>1988.0</td>\n",
       "      <td>1.8 MT (90 л.с.)</td>\n",
       "      <td>4.0</td>\n",
       "      <td>1989</td>\n",
       "      <td>SEDAN MECHANICAL 1.8</td>\n",
       "      <td>MECHANICAL</td>\n",
       "      <td>1.8</td>\n",
       "      <td>90.0</td>\n",
       "      <td>NaN</td>\n",
       "      <td>240000</td>\n",
       "      <td>{'id': '0'}</td>\n",
       "      <td>передний</td>\n",
       "      <td>LEFT</td>\n",
       "      <td>NaN</td>\n",
       "      <td>3.0</td>\n",
       "      <td>ORIGINAL</td>\n",
       "      <td>True</td>\n",
       "      <td>NaN</td>\n",
       "      <td>65000.0</td>\n",
       "      <td>2020-08-23T17:40:09Z</td>\n",
       "      <td>NaN</td>\n",
       "      <td>100</td>\n",
       "    </tr>\n",
       "    <tr>\n",
       "      <th>4</th>\n",
       "      <td>Седан</td>\n",
       "      <td>AUDI</td>\n",
       "      <td>040001</td>\n",
       "      <td>бензин</td>\n",
       "      <td>1990.0</td>\n",
       "      <td>2.0 MT (101 л.с.)</td>\n",
       "      <td>4.0</td>\n",
       "      <td>1991</td>\n",
       "      <td>SEDAN MECHANICAL 2.0</td>\n",
       "      <td>MECHANICAL</td>\n",
       "      <td>2.0</td>\n",
       "      <td>101.0</td>\n",
       "      <td>Машина не гнилая, дыр нет, днище целое, даже в...</td>\n",
       "      <td>300000</td>\n",
       "      <td>{'id': '0'}</td>\n",
       "      <td>передний</td>\n",
       "      <td>LEFT</td>\n",
       "      <td>NaN</td>\n",
       "      <td>3.0</td>\n",
       "      <td>DUPLICATE</td>\n",
       "      <td>True</td>\n",
       "      <td>NaN</td>\n",
       "      <td>100000.0</td>\n",
       "      <td>2020-09-08T09:22:07Z</td>\n",
       "      <td>NaN</td>\n",
       "      <td>100</td>\n",
       "    </tr>\n",
       "  </tbody>\n",
       "</table>\n",
       "</div>"
      ],
      "text/plain": [
       "          bodyType brand   color fuelType  modelDate                   name  \\\n",
       "0            Седан  AUDI  040001   бензин     1990.0  2.8 MT (174 л.с.) 4WD   \n",
       "1            Седан  AUDI  EE1D19   бензин     1982.0       1.8 MT (90 л.с.)   \n",
       "2  Универсал 5 дв.  AUDI  0000CC   бензин     1988.0  2.3 MT (136 л.с.) 4WD   \n",
       "3            Седан  AUDI  CACECB   бензин     1988.0       1.8 MT (90 л.с.)   \n",
       "4            Седан  AUDI  040001   бензин     1990.0      2.0 MT (101 л.с.)   \n",
       "\n",
       "   numberOfDoors  productionDate          vehicleConfiguration  \\\n",
       "0            4.0            1991          SEDAN MECHANICAL 2.8   \n",
       "1            4.0            1986          SEDAN MECHANICAL 1.8   \n",
       "2            5.0            1989  WAGON_5_DOORS MECHANICAL 2.3   \n",
       "3            4.0            1989          SEDAN MECHANICAL 1.8   \n",
       "4            4.0            1991          SEDAN MECHANICAL 2.0   \n",
       "\n",
       "  vehicleTransmission engineDisplacement  enginePower  \\\n",
       "0          MECHANICAL                2.8        174.0   \n",
       "1          MECHANICAL                1.8         90.0   \n",
       "2          MECHANICAL                2.3        136.0   \n",
       "3          MECHANICAL                1.8         90.0   \n",
       "4          MECHANICAL                2.0        101.0   \n",
       "\n",
       "                                         description  mileage Комплектация  \\\n",
       "0   Машина  в приличном состоянии ,не гнилая не р...   350000  {'id': '0'}   \n",
       "1  Машина в оригинале не гнилая все вопросы по те...   173424  {'id': '0'}   \n",
       "2  ПТС Оригинал!\\nПолный комплект ключей!\\nПо рез...   230000  {'id': '0'}   \n",
       "3                                                NaN   240000  {'id': '0'}   \n",
       "4  Машина не гнилая, дыр нет, днище целое, даже в...   300000  {'id': '0'}   \n",
       "\n",
       "     Привод  Руль  Состояние  Владельцы        ПТС  Таможня Владение  \\\n",
       "0    полный  LEFT        NaN        3.0   ORIGINAL     True      NaN   \n",
       "1  передний  LEFT        NaN        3.0   ORIGINAL     True      NaN   \n",
       "2    полный  LEFT        NaN        3.0   ORIGINAL     True      NaN   \n",
       "3  передний  LEFT        NaN        3.0   ORIGINAL     True      NaN   \n",
       "4  передний  LEFT        NaN        3.0  DUPLICATE     True      NaN   \n",
       "\n",
       "      price            start_date  hidden model  \n",
       "0  200000.0  2019-10-03T08:09:11Z     NaN   100  \n",
       "1   60000.0  2020-09-06T06:49:40Z     NaN   100  \n",
       "2   99000.0  2020-09-02T14:04:21Z     NaN   100  \n",
       "3   65000.0  2020-08-23T17:40:09Z     NaN   100  \n",
       "4  100000.0  2020-09-08T09:22:07Z     NaN   100  "
      ]
     },
     "metadata": {},
     "output_type": "display_data"
    }
   ],
   "source": [
    "# display both dataframes\n",
    "display(test_df.head())\n",
    "display(all_auto_ru_09_09_2020.head())"
   ]
  },
  {
   "cell_type": "markdown",
   "metadata": {},
   "source": [
    "#### price\n",
    "\n",
    "Удаляем авто без указанной цены"
   ]
  },
  {
   "cell_type": "code",
   "execution_count": 165,
   "metadata": {},
   "outputs": [
    {
     "name": "stdout",
     "output_type": "stream",
     "text": [
      "initially we had: 89378\n",
      "after removing NaN price samples we have: 88968\n"
     ]
    }
   ],
   "source": [
    "print(f\"initially we had: {len(all_auto_ru_09_09_2020)}\")\n",
    "\n",
    "train_df = all_auto_ru_09_09_2020.dropna(axis=0, subset=['price'])\n",
    "\n",
    "print(f\"after removing NaN price samples we have: {len(train_df)}\")"
   ]
  },
  {
   "cell_type": "markdown",
   "metadata": {},
   "source": [
    "#### bodyType\n",
    "\n",
    "Удаляем те автомобили, у которых тип кузова не из списка кузовов тестовых сэмплов"
   ]
  },
  {
   "cell_type": "code",
   "execution_count": 166,
   "metadata": {},
   "outputs": [
    {
     "name": "stdout",
     "output_type": "stream",
     "text": [
      "before we had: 88968\n",
      "after preprocessing by bodyType we have: 85143\n"
     ]
    },
    {
     "name": "stderr",
     "output_type": "stream",
     "text": [
      "/opt/miniconda3/lib/python3.7/site-packages/ipykernel_launcher.py:4: SettingWithCopyWarning: \n",
      "A value is trying to be set on a copy of a slice from a DataFrame.\n",
      "Try using .loc[row_indexer,col_indexer] = value instead\n",
      "\n",
      "See the caveats in the documentation: https://pandas.pydata.org/pandas-docs/stable/user_guide/indexing.html#returning-a-view-versus-a-copy\n",
      "  after removing the cwd from sys.path.\n"
     ]
    }
   ],
   "source": [
    "print(f\"before we had: {len(train_df)}\")\n",
    "\n",
    "# lowercase whole bodyType column in train dataframe\n",
    "train_df['bodyType'] = train_df['bodyType'].str.lower()\n",
    "\n",
    "test_df_body_types = list(test_df['bodyType'].unique())\n",
    "train_df = train_df[train_df['bodyType'].isin(test_df_body_types)]\n",
    "\n",
    "print(f\"after preprocessing by bodyType we have: {len(train_df)}\")"
   ]
  },
  {
   "cell_type": "markdown",
   "metadata": {},
   "source": [
    "#### brand\n",
    "\n",
    "Удаляем автомобили, бренда которых нет в списке брендов тестовых сэмплов"
   ]
  },
  {
   "cell_type": "code",
   "execution_count": 157,
   "metadata": {},
   "outputs": [
    {
     "name": "stdout",
     "output_type": "stream",
     "text": [
      "before we had: 85143\n",
      "after preprocessing by brand we have: 46645\n"
     ]
    }
   ],
   "source": [
    "print(f\"before we had: {len(train_df)}\")\n",
    "\n",
    "test_df_brands = list(test_df['brand'].unique())\n",
    "train_df = train_df[train_df['brand'].isin(test_df_brands)]\n",
    "\n",
    "print(f\"after preprocessing by brand we have: {len(train_df)}\")"
   ]
  },
  {
   "cell_type": "markdown",
   "metadata": {},
   "source": [
    "#### color\n",
    "\n",
    "Используя словарь значений, найденный в Kaggle ноутбуке, конвертируем цвета"
   ]
  },
  {
   "cell_type": "code",
   "execution_count": 168,
   "metadata": {},
   "outputs": [],
   "source": [
    "# color dictionary from Kaggle notebook\n",
    "dict_color = {'040001':'чёрный', 'EE1D19':'красный', '0000CC':'синий', \n",
    "              'CACECB':'серебристый', '007F00':'зелёный', 'FAFBFB':'белый', \n",
    "              '97948F':'серый', '22A0F8':'голубой', '660099':'пурпурный', \n",
    "              '200204':'коричневый', 'C49648':'бежевый', 'DEA522':'золотистый', \n",
    "              '4A2197':'фиолетовый', 'FFD600':'жёлтый', 'FF8649':'оранжевый', \n",
    "              'FFC0CB':'розовый'}\n",
    "\n",
    "train_df['color'] = train_df['color'].map(dict_color)"
   ]
  },
  {
   "cell_type": "markdown",
   "metadata": {},
   "source": [
    "#### engineDisplacement\n",
    "\n",
    "Некоторые значения содержат в себе нечисленные символы, поэтому тип данных в данной колонке указан как object. Нужно избавить от таких значений и конвертировать тип колонки в float."
   ]
  },
  {
   "cell_type": "code",
   "execution_count": 169,
   "metadata": {},
   "outputs": [
    {
     "name": "stdout",
     "output_type": "stream",
     "text": [
      "before we had: 85143\n",
      "after preprocessing by engineDisplacement we have: 67458\n"
     ]
    }
   ],
   "source": [
    "print(f\"before we had: {len(train_df)}\")\n",
    "\n",
    "# first, remove samples which do not match specified pattern\n",
    "train_df = train_df[train_df['engineDisplacement'].str.match('(.)\\.(.*)')]\n",
    "\n",
    "# then, we need to remove letters\n",
    "engine_displacements_list = list(train_df['engineDisplacement'].unique())\n",
    "dict_engine_displacement = dict()\n",
    "for s in engine_displacements_list:\n",
    "    dict_engine_displacement[s] = re.sub('[^0-9|\\.]', '', s)\n",
    "train_df['engineDisplacement'] = train_df['engineDisplacement'].map(dict_engine_displacement)\n",
    "    \n",
    "# convert to float\n",
    "train_df['engineDisplacement'] = train_df['engineDisplacement'].astype('float')\n",
    "\n",
    "print(f\"after preprocessing by engineDisplacement we have: {len(train_df)}\")"
   ]
  },
  {
   "cell_type": "markdown",
   "metadata": {},
   "source": [
    "#### modelDate и numberOfDoors\n",
    "\n",
    "Переводим из float в int"
   ]
  },
  {
   "cell_type": "code",
   "execution_count": 170,
   "metadata": {},
   "outputs": [],
   "source": [
    "train_df['modelDate'] = train_df['modelDate'].astype('int')\n",
    "train_df['numberOfDoors'] = train_df['numberOfDoors'].astype('int')"
   ]
  },
  {
   "cell_type": "markdown",
   "metadata": {},
   "source": [
    "#### vehicleTransmission\n",
    "\n",
    "Снова используем словарь для перевода значений"
   ]
  },
  {
   "cell_type": "code",
   "execution_count": 171,
   "metadata": {},
   "outputs": [],
   "source": [
    "# transmission dictionary\n",
    "dict_transmission = {'AUTOMATIC': 'автоматическая', \n",
    "                     'MECHANICAL':'механическая', \n",
    "                     'ROBOT':'роботизированная', \n",
    "                     'VARIATOR':'вариатор'}\n",
    "\n",
    "# convert using dictionary\n",
    "train_df['vehicleTransmission'] = train_df['vehicleTransmission'].map(dict_transmission)"
   ]
  },
  {
   "cell_type": "markdown",
   "metadata": {},
   "source": [
    "#### vendor\n",
    "\n",
    "Используем мною созданный словарь бренд/вендор"
   ]
  },
  {
   "cell_type": "code",
   "execution_count": null,
   "metadata": {},
   "outputs": [],
   "source": [
    "with open('data/brands_vendors_dict.json', 'r') as file:\n",
    "    brands_vendors_dict = json.load(file)\n",
    "    \n",
    "train_df['vendor'] = train_df['brand'].map(lambda x: brands_vendors_dict[x])"
   ]
  },
  {
   "cell_type": "markdown",
   "metadata": {},
   "source": [
    "#### Владельцы\n",
    "\n",
    "Используем словарь"
   ]
  },
  {
   "cell_type": "code",
   "execution_count": 173,
   "metadata": {},
   "outputs": [],
   "source": [
    "dict_owners = {4.0:'3 или более', 3.0: '3 или более', 2.0: '2 владельца', 1.0: '1 владелец'}\n",
    "\n",
    "train_df['Владельцы'] = train_df['Владельцы'].map(dict_owners)"
   ]
  },
  {
   "cell_type": "markdown",
   "metadata": {},
   "source": [
    "#### ПТС\n",
    "\n",
    "Используем словарь"
   ]
  },
  {
   "cell_type": "code",
   "execution_count": 174,
   "metadata": {},
   "outputs": [],
   "source": [
    "dict_pts = {'ORIGINAL': 'Оригинал', 'DUPLICATE': 'Дубликат'}\n",
    "\n",
    "train_df['ПТС'] = train_df['ПТС'].map(dict_pts)"
   ]
  },
  {
   "cell_type": "markdown",
   "metadata": {},
   "source": [
    "#### Руль\n",
    "\n",
    "Используем словарь"
   ]
  },
  {
   "cell_type": "code",
   "execution_count": 175,
   "metadata": {},
   "outputs": [],
   "source": [
    "dict_wheel = {'LEFT': 'Левый', 'RIGHT': 'Правый'}\n",
    "\n",
    "train_df['Руль'] = train_df['Руль'].map(dict_wheel)"
   ]
  },
  {
   "cell_type": "markdown",
   "metadata": {},
   "source": [
    "#### Выбираем колонки\n",
    "\n",
    "Не используем model_name, так как этого признака нет от слова совсем в тренировочных данных. Также, не забыть добавить колонку price"
   ]
  },
  {
   "cell_type": "code",
   "execution_count": 186,
   "metadata": {},
   "outputs": [],
   "source": [
    "columns = list(test_df.columns)\n",
    "\n",
    "columns.remove('sell_id')\n",
    "columns.remove('model_name')\n",
    "columns.remove('vendor')\n",
    "columns.append('price')\n",
    "\n",
    "train_df = train_df[columns]"
   ]
  },
  {
   "cell_type": "code",
   "execution_count": 187,
   "metadata": {},
   "outputs": [],
   "source": [
    "# save train data\n",
    "train_df.to_csv('data/train_kaggle.csv', index=None)"
   ]
  },
  {
   "cell_type": "code",
   "execution_count": null,
   "metadata": {},
   "outputs": [],
   "source": []
  }
 ],
 "metadata": {
  "kernelspec": {
   "display_name": "Python 3",
   "language": "python",
   "name": "python3"
  },
  "language_info": {
   "codemirror_mode": {
    "name": "ipython",
    "version": 3
   },
   "file_extension": ".py",
   "mimetype": "text/x-python",
   "name": "python",
   "nbconvert_exporter": "python",
   "pygments_lexer": "ipython3",
   "version": "3.7.7"
  }
 },
 "nbformat": 4,
 "nbformat_minor": 4
}
